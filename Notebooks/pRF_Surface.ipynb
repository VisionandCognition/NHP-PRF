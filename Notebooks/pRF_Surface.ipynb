{
 "cells": [
  {
   "cell_type": "markdown",
   "metadata": {},
   "source": [
    "# **Project pRF fitting results to the Freesurfer surfaces**"
   ]
  },
  {
   "cell_type": "markdown",
   "metadata": {},
   "source": [
    "### Initiation - Variables and paths"
   ]
  },
  {
   "cell_type": "code",
   "execution_count": null,
   "metadata": {},
   "outputs": [],
   "source": [
    "# what subject?\n",
    "SUBJ=Danny\n",
    "\n",
    "# where are the volume-based results\n",
    "pRFVol=/Users/chris/Documents/CURRENT_PROJECTS/NHP_MRI/Projects/pRF/FitResults/MRI/${Subj,}\n",
    "\n",
    "# where will the result be saved?\n",
    "OUT=/Users/chris/Documents/CURRENT_PROJECTS/NHP_MRI/Projects/pRF/Results_on_Surface/pRF_Surf_${SUBJ}\n",
    "mkdir -p $OUT\n",
    "\n",
    "# where can we find the epi space the results are in?\n",
    "# This is usually the reference from the `manual-masks' folder that is used for preprocessing and modelfit in NHP-BIDS.\n",
    "EPI_ROOT=/Users/chris/Documents/MRI_ANALYSIS/NHP-BIDS/manual-masks/sub-${SUBJ,}/func/\n",
    "EPI=${EPI_ROOT}/sub-${SUBJ,}_ref_func_res-1x1x1.nii.gz\n",
    "EPI_MASK=${EPI_ROOT}/sub-${SUBJ,}_ref_func_mask_res-1x1x1.nii.gz\n",
    "\n",
    "# where is the anatomical you'd like to register to?\n",
    "# $SUBJECTS_DIR should point to the Freesurfer subjects directory. Adjust your bashrc to export this if it doesn't do so already.\n",
    "T1=${SUBJECTS_DIR}/${SUBJ}/mri/brainmask.mgz\n",
    "# and the corresponding white matter segmentation?\n",
    "WM=${SUBJECTS_DIR}/${SUBJ}/mri/wm.mgz\n",
    "# where's the surface folder for this subject?\n",
    "FSSURF=${SUBJECTS_DIR}/${SUBJ}/surf\n",
    "\n",
    "# copy the surfaces in the outputfolder\n",
    "cp -r ${FSSURF} ${OUT}/fs_surf"
   ]
  },
  {
   "cell_type": "code",
   "execution_count": null,
   "metadata": {},
   "outputs": [],
   "source": [
    "# Mask the epi that is used as a reference in functional analysis to extract the brain\n",
    "fslmaths ${EPI} -mas ${EPI_MASK} ${OUT}/epi_brain.nii.gz\n",
    "EPI_BRAIN=${OUT}/epi_brain.nii.gz"
   ]
  },
  {
   "cell_type": "markdown",
   "metadata": {},
   "source": [
    "## Flirt registration of epi to T1\n",
    "The T1 you pick here is the header adjusted one that formed the based of the surface generation in Freesurfer. We do not have to adjust the header of the epi, because flirt will generally be able to take of the scaling. If this fails for some reason you can still do it manually with `3drefit -xdel 2.0 -ydel 2.0 -zdel 2.0 -keepcen <epi>.nii.gz`. Note that we set voxel sizes to 2 mm in the header in this case. The reason is that for the T1 we had 0.5 mm voxels and adjusted the header to 1 mm, a factor of 2. Our pre-processed epi's have 1 mm voxels, so applying the same factor of 2 means the header info should state that the voxels are 2 mm isotropic.\n",
    "\n",
    "Be aware that, when you first adjust the header and then do flirt, the final registration matrix will not include this scaling and expect header-adjusted input. Any result you want to warp to the surface will thus first have to be adjusted. You don't have to do this is if the flirt is performed on the non-adjusted epi. \n",
    "\n",
    "NB1! One thing to carefully check is whether the x-direction of the voxel order matches between the epi and T1 because if it doesn't we will see left/right flips. With some of our older standard epi's this needs correction (later I corrected it in the reference file for pre-processing). There's a script that does that for you called `swap_xdir_voxels.sh`. You can find it in the `bin` folder of the `Process-NHP-MRI` repository (https://github.com/VisionandCognition/Process-NHP-MRI)\n",
    "\n",
    "NB2! flirt works significantly better if you include the white matter segmentation (`-wmseg`) of the T1 and phase encoding direction (`-pedir`) of the epi. Check the documentation to find how to code this. If you used Chris Klink's standard epi sequence, your `-pedir` is `-2`."
   ]
  },
  {
   "cell_type": "code",
   "execution_count": null,
   "metadata": {},
   "outputs": [],
   "source": [
    "# get the brain and white matter volumes from freesurfer & convert to nifti\n",
    "mri_convert ${T1} ${OUT}/brain.nii.gz \n",
    "mri_convert ${WM} ${OUT}/wm.nii.gz \n",
    "# calculate the registration\n",
    "flirt -ref ${OUT}/brain.nii.gz -wmseg ${OUT}/wm.nii.gz -in ${EPI_BRAIN} -out ${OUT}/epi2anat.nii.gz -omat ${OUT}/epi2anat.mat -pedir -2\n",
    "# check whether nonlinear registration improves on this result (could be a mess as well)\n",
    "# fnirt --ref ${OUT}/brain.nii.gz --in ${EPI_BRAIN} --aff ${OUT}/epi2anat.mat --iout ${OUT}/epi2anat_fnirt.nii.gz --inmask ${EPI_MASK} "
   ]
  },
  {
   "cell_type": "markdown",
   "metadata": {},
   "source": [
    "## Create the tkregister matrix\n",
    "Now we will use the flirt registration matrix to create a registration matrix in freesurfer format. To get there, we can use the freesurfer program `tkregister` that allows manual registration between 2 volumes. We will inititate it with the flirt matrix and check whether registration is good. If not, you can make manual adjustments, but flirt probably does a better job than manual attempts. Within `tkregister` you can check the alignment of the two volumes by clicking `compare`. Save the registration matrix as `reg.fsl.dat`."
   ]
  },
  {
   "cell_type": "code",
   "execution_count": null,
   "metadata": {},
   "outputs": [],
   "source": [
    "# run the tkregister registration initated with the flirt transform\n",
    "tkregister2 --mov ${EPI_BRAIN} --targ ${OUT}/brain.nii.gz --fsl ${OUT}/epi2anat.mat --reg ${OUT}/reg.fsl.dat --s ${SUBJ}"
   ]
  },
  {
   "cell_type": "code",
   "execution_count": null,
   "metadata": {},
   "outputs": [],
   "source": [
    "tkReg=${OUT}/reg.fsl.dat "
   ]
  },
  {
   "cell_type": "markdown",
   "metadata": {},
   "source": [
    "## Convert volumes to surface representation    \n",
    "Cycle over models, cv-modes, hrfs, and R2-thresholds (for both hemispheres)."
   ]
  },
  {
   "cell_type": "code",
   "execution_count": null,
   "metadata": {},
   "outputs": [],
   "source": [
    "# values to cycle over\n",
    "declare -a hrfmod=(mhrf dhrf)\n",
    "declare -a cv=(cv0 cv1)\n",
    "declare -a models=(linhrf csshrf doghrf)\n",
    "declare -a neggain=(0 1)\n",
    "declare -a TH=(0 1 2 4 5 10)\n",
    "declare -a HEMI=(lh rh)"
   ]
  },
  {
   "cell_type": "code",
   "execution_count": null,
   "metadata": {},
   "outputs": [],
   "source": []
  },
  {
   "cell_type": "code",
   "execution_count": null,
   "metadata": {},
   "outputs": [],
   "source": [
    "# These (re)definitions allow to do this part independent of previous steps\n",
    "SUBJ=${SUBJ} \n",
    "tkReg=${OUT}/reg.fsl.dat \n",
    "\n",
    "# Pick your stat-maps\n",
    "RES_Base=/Users/chris/Documents/MRI_ANALYSIS/NHP-CurveTrace_MRI/ActivationMaps/Danny/res\n",
    "# Look up list to help me keep track of contrasts :)\n",
    "declare -a Location=(DL DR UL UR)\n",
    "\n",
    "declare _a LClabels=(\\\n",
    "    lc_targ_DL lc_targ_DR lc_targ_UL lc_targ_UR \\\n",
    "    lc_oc_DL lc_oc_DR lc_oc_UL lc_oc_UR \\\n",
    "    lc_sc_DL lc_sc_DR lc_sc_UL lc_sc_UR \\\n",
    "    lc_ic_L lc_ic_R)\n",
    "declare _a CTlabels=(ct_DL ct_DR ct_UL ct_UR)\n",
    "\n",
    "ct_contrast='vsCentral'  # vsCentral or vsOther\n",
    "stat_type='clust_fwe' # clust_fwe / vox_fdr / vox_fwe / vox_uncorr\n",
    "\n",
    "LC_Base=$RES_Base/lc/$stat_type\n",
    "CT_Base=$RES_Base/ct/$stat_type\n",
    "\n",
    "# LOCALIZERS =====\n",
    "for i in {0..13}; do\n",
    "    if [ $stat_type == 'clust_fwe' ]; then\n",
    "        LC[${i}]=$LC_Base/clust_zmap${i}.nii.gz\n",
    "    elif [ $stat_type == 'vox_fdr' ]; then\n",
    "        LC[${i}]=$LC_Base/oneminuspval${i}_reg_1mm.nii.gz\n",
    "    elif [ $stat_type == 'vox_fwe' ]; then\n",
    "        LC[${i}]=$LC_Base/oneminuspval${i}_reg_1mm.nii.gz\n",
    "    elif [ $stat_type == 'vox_uncorr' ]; then\n",
    "        LC[${i}]=$LC_Base/zstat${i}_reg_1mm.nii.gz\n",
    "    fi\n",
    "done\n",
    "\n",
    "# CURVE TRACING ===\n",
    "if [ $stat_type == 'clust_fwe' ]; then\n",
    "    CT[0]=$CT_Base/clust_zmap12.nii.gz\n",
    "    CT[1]=$CT_Base/clust_zmap14.nii.gz\n",
    "    CT[2]=$CT_Base/clust_zmap11.nii.gz\n",
    "    CT[3]=$CT_Base/clust_zmap13.nii.gz\n",
    "elif [ $stat_type == 'vox_fdr' ]; then\n",
    "    CT[0]=$CT_Base/oneminuspval12_reg_1mm.nii.gz\n",
    "    CT[1]=$CT_Base/oneminuspval14_reg_1mm.nii.gz\n",
    "    CT[2]=$CT_Base/oneminuspval11_reg_1mm.nii.gz\n",
    "    CT[3]=$CT_Base/oneminuspval13_reg_1mm.nii.gz\n",
    "elif [ $stat_type == 'vox_fwe' ]; then\n",
    "    CT[0]=$CT_Base/oneminuspval12_reg_1mm.nii.gz\n",
    "    CT[1]=$CT_Base/oneminuspval14_reg_1mm.nii.gz\n",
    "    CT[2]=$CT_Base/oneminuspval11_reg_1mm.nii.gz\n",
    "    CT[3]=$CT_Base/oneminuspval13_reg_1mm.nii.gz\n",
    "elif [ $stat_type == 'vox_uncorr' ]; then\n",
    "    CT[0]=$CT_Base/zstat12_reg_1mm.nii.gz\n",
    "    CT[1]=$CT_Base/zstat14_reg_1mm.nii.gz\n",
    "    CT[2]=$CT_Base/zstat11_reg_1mm.nii.gz\n",
    "    CT[3]=$CT_Base/zstat13_reg_1mm.nii.gz\n",
    "fi\n",
    "\n",
    "HEMI=(lh rh) # allow looping over hemispheres when calculating volume to surface transformations"
   ]
  },
  {
   "cell_type": "markdown",
   "metadata": {},
   "source": [
    "We can now convert the statistical volumes to surface representations using the `mri_vol2surf` command. Since this essentially brings a 3d result to 2d there is a choice to be made on how/where to sample. The `--projfrac` tells the command where between the WM/GM border (`--projfract 0`) and the pial surface (`projfract 1`) to get the data. These fractions can also be negative (going into the WM) or higher than 1 (beyond the pial surface). Alternatively, you can average along the normal between WM/GM border and pial surface using `--projfrac-avg min max stepsize` or the maximum by using `--projfrac-max min max stepsize`."
   ]
  },
  {
   "cell_type": "code",
   "execution_count": null,
   "metadata": {},
   "outputs": [],
   "source": [
    "# look at the mri_vol2surf documentation for more info\n",
    "# mri_vol2surf --help"
   ]
  },
  {
   "cell_type": "code",
   "execution_count": null,
   "metadata": {},
   "outputs": [],
   "source": [
    "# LOCALIZERS ==\n",
    "cnt=0\n",
    "for cc in ${LC[@]}; do\n",
    "    # create surface plots for all Localizer contrasts\n",
    "    # use max zstat across normal of full GM\n",
    "    for xh in ${HEMI[@]}; do\n",
    "        mri_vol2surf --trgsubject ${SUBJ} --src $cc --out ${OUT}/${xh}.${LClabels[${cnt}]}.w \\\n",
    "            --out_type paint --projfrac-max 0 1 0.1 --srcreg ${tkReg} --hemi ${xh}\n",
    "    done\n",
    "    let cnt++\n",
    "done"
   ]
  },
  {
   "cell_type": "markdown",
   "metadata": {},
   "source": [
    "## Visualising the results  \n",
    "The cells below provide the code for `tkSurfer`, but everything looks a lot more modern in `surfice`"
   ]
  },
  {
   "cell_type": "code",
   "execution_count": null,
   "metadata": {},
   "outputs": [],
   "source": [
    "surfice"
   ]
  },
  {
   "cell_type": "code",
   "execution_count": null,
   "metadata": {},
   "outputs": [],
   "source": [
    "# show in tksurfer\n",
    "xh=rh # switch hemisphere easily\n",
    "tksurfer ${SUBJ} ${xh} graymid -patch occip.patch.flat -overlay ${OUT}/${xh}.lc_targ_DL.w -overlay-reg ${tkReg}"
   ]
  },
  {
   "cell_type": "code",
   "execution_count": null,
   "metadata": {},
   "outputs": [],
   "source": [
    "# show in tksurfer\n",
    "xh=lh # switch hemisphere easily\n",
    "tksurfer ${SUBJ} ${xh} graymid -patch full.patch.flat -overlay ${OUT}/${xh}.CT3_avg.w -overlay-reg ${tkReg}"
   ]
  }
 ],
 "metadata": {
  "kernelspec": {
   "display_name": "Bash",
   "language": "bash",
   "name": "bash"
  },
  "language_info": {
   "codemirror_mode": "shell",
   "file_extension": ".sh",
   "mimetype": "text/x-sh",
   "name": "bash"
  }
 },
 "nbformat": 4,
 "nbformat_minor": 2
}
