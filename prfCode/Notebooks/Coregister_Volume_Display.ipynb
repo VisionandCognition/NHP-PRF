{
 "cells": [
  {
   "cell_type": "markdown",
   "metadata": {},
   "source": [
    "# Co-register for volumetric pRF results display"
   ]
  },
  {
   "cell_type": "markdown",
   "metadata": {},
   "source": [
    "Starting with ====\n",
    "Results in `functional-reference space`\n",
    "Warping info in `NHP-BIDS/manual-masks`\n",
    "NMT-template in `Templates/NMT`    \n",
    "Atlas in `xxxx`\n",
    "\n",
    "End result ====\n",
    "In `functional-space`: \n",
    "    Functional reference (brain, brainmask)\n",
    "    Individual anatomical volume (full, brain, brainmask)\n",
    "        Segmented individual (GM, WM, MidGM)\n",
    "        Atlas D99 in \n",
    "        ROIs\n",
    "        Surfaces\n",
    "\n",
    "Have everyhing in `nii` and in 1mm voxel size where necessary\n"
   ]
  },
  {
   "cell_type": "markdown",
   "metadata": {},
   "source": [
    "This seemed to have been the workflow:\n",
    "1) `create_backgr_vols.sh` warps a whole bunch of volumes to func-space to display results on \n",
    "(surface generation here as well, done before I figured out NHP-Freesurfer, so pretty useless...)  \n",
    "2) `create_roi.sh` extracts ROIs from atlas\n",
    "3) `manual_adjust_registration` takes a manual flirt (done in `fsleyes`) and applies it to a bunch of files"
   ]
  },
  {
   "cell_type": "markdown",
   "metadata": {},
   "source": [
    "What is used later?\n"
   ]
  }
 ],
 "metadata": {
  "kernelspec": {
   "display_name": "Bash",
   "language": "bash",
   "name": "bash"
  },
  "language_info": {
   "codemirror_mode": "shell",
   "file_extension": ".sh",
   "mimetype": "text/x-sh",
   "name": "bash"
  }
 },
 "nbformat": 4,
 "nbformat_minor": 4
}
