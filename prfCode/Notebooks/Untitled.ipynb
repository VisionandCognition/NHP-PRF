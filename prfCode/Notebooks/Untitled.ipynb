{
 "cells": [
  {
   "cell_type": "code",
   "execution_count": 2,
   "metadata": {},
   "outputs": [
    {
     "name": "stdout",
     "output_type": "stream",
     "text": [
      "srcvol = /home/chris/Documents/CURRENT_PROJECTS/NHP_MRI/Projects/pRF/FitResults/MRI/danny/csshrf_cv1_dhrf/inAnat/TH_0/ANG_th0.nii.gz\n",
      "srcreg = /home/chris/Documents/CURRENT_PROJECTS/NHP_MRI/Projects/pRF/FitResults/Reference/Surfaces/danny/fs_tkreg/anat/reg.fsl.dat\n",
      "srcregold = 0\n",
      "srcwarp unspecified\n",
      "surf = white\n",
      "hemi = lh\n",
      "trgsubject = Danny\n",
      "surfreg = sphere.reg\n",
      "ProjFrac = 0.7\n",
      "thickness = thickness\n",
      "reshape = 0\n",
      "interp = nearest\n",
      "float2int = round\n",
      "GetProjMax = 0\n",
      "INFO: float2int code = 0\n",
      "Done loading volume\n",
      "INFO: This REGISTER_DAT transform is valid only for volumes between  COR types with c_(r,a,s) = 0.\n",
      "Input reg is register.dat\n",
      "-------- original matrix -----------\n",
      "-0.50044  -0.00105   0.00125  -0.03911;\n",
      " 0.00024   0.00203   0.49755   0.08217;\n",
      " 0.00084  -0.49618   0.00252   0.24727;\n",
      " 0.00000   0.00000   0.00000   1.00000;\n",
      "-------- original matrix -----------\n",
      "Reading surface /media/DATA1/NHP_MRI/freesurfer/subjects/Danny/surf/lh.white\n",
      "Done reading source surface\n",
      "Reading thickness /media/DATA1/NHP_MRI/freesurfer/subjects/Danny/surf/lh.thickness\n",
      "Done\n",
      "Mapping Source Volume onto Source Subject Surface\n",
      " 1 0.7 0.7 0.7\n",
      "using old\n",
      "Done mapping volume to surface\n",
      "Number of source voxels hit = 18077\n",
      "Writing to /home/chris/Desktop/testsurf.mgh\n",
      "Dim: 76724 1 1\n"
     ]
    }
   ],
   "source": [
    "        mri_vol2surf \\\n",
    "            --trgsubject Danny \\\n",
    "            --src /home/chris/Documents/CURRENT_PROJECTS/NHP_MRI/Projects/pRF/FitResults/MRI/danny/csshrf_cv1_dhrf/inAnat/TH_0/ANG_th0.nii.gz \\\n",
    "            --out ~/Desktop/testsurf.mgh \\\n",
    "            --out_type mgh --projfrac 0.7 \\\n",
    "            --srcreg /home/chris/Documents/CURRENT_PROJECTS/NHP_MRI/Projects/pRF/FitResults/Reference/Surfaces/danny/fs_tkreg/anat/reg.fsl.dat \\\n",
    "            --hemi lh"
   ]
  },
  {
   "cell_type": "code",
   "execution_count": null,
   "metadata": {},
   "outputs": [],
   "source": []
  }
 ],
 "metadata": {
  "kernelspec": {
   "display_name": "Bash",
   "language": "bash",
   "name": "bash"
  },
  "language_info": {
   "codemirror_mode": "shell",
   "file_extension": ".sh",
   "mimetype": "text/x-sh",
   "name": "bash"
  }
 },
 "nbformat": 4,
 "nbformat_minor": 4
}
