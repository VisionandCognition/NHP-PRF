{
 "cells": [
  {
   "cell_type": "code",
   "execution_count": 1,
   "metadata": {},
   "outputs": [],
   "source": [
    "import cortex\n",
    "from cortex.polyutils import Surface\n",
    "import numpy as np\n",
    "np.random.seed(1234)\n",
    "from matplotlib import pyplot as plt"
   ]
  },
  {
   "cell_type": "code",
   "execution_count": 2,
   "metadata": {},
   "outputs": [],
   "source": [
    "subject = \"S1\""
   ]
  },
  {
   "cell_type": "code",
   "execution_count": 3,
   "metadata": {},
   "outputs": [],
   "source": [
    "# First we need to import the surfaces for this subject\n",
    "lsurf, rsurf = [Surface(*d) for d in cortex.db.get_surf(subject, \"fiducial\")]"
   ]
  },
  {
   "cell_type": "code",
   "execution_count": 4,
   "metadata": {},
   "outputs": [],
   "source": [
    "# Let's choose a few points and generate data for them\n",
    "selected_pts = np.arange(len(lsurf.pts), step=5000)\n",
    "num_selected_pts = len(selected_pts)\n",
    "sparse_data = np.random.randn(num_selected_pts)"
   ]
  },
  {
   "cell_type": "code",
   "execution_count": 7,
   "metadata": {},
   "outputs": [
    {
     "name": "stdout",
     "output_type": "stream",
     "text": [
      "10000\n"
     ]
    }
   ],
   "source": [
    "print(selected_pts[2])"
   ]
  },
  {
   "cell_type": "code",
   "execution_count": null,
   "metadata": {},
   "outputs": [],
   "source": [
    "# Then interpolate\n",
    "interp_data = lsurf.interp(selected_pts, sparse_data)\n",
    "\n",
    "# Plot the result\n",
    "# interp_data is only for the left hemisphere, but the Vertex constructor\n",
    "# infers that and fills the right hemisphere with zeros\n",
    "interp_vertex = cortex.Vertex(interp_data[:,0], subject, \n",
    "                              vmin=-2, vmax=2, cmap='RdBu_r')\n",
    "cortex.quickshow(interp_vertex, with_labels=False, with_rois=False)\n",
    "\n",
    "\n",
    "# plot the locations of the points we selected originally\n",
    "\n",
    "# nudge=True puts both left and right hemispheres in the same space, moving them\n",
    "# so that they don't overlap. These are the coordinates used in quickflat\n",
    "(lflatpts, lpolys), (rflatpts, rpolys) = cortex.db.get_surf(subject, \"flat\", \n",
    "                                                            nudge=True)\n",
    "\n",
    "ax = plt.gca()\n",
    "# zorder is set to 10 to make sure points go on top of other quickflat layers\n",
    "ax.scatter(lflatpts[selected_pts,0], lflatpts[selected_pts,1], s=50, \n",
    "           c=sparse_data, vmin=-2, vmax=2, cmap=plt.cm.RdBu_r, zorder=10)\n",
    "\n",
    "\n",
    "# the interpolate function can also handle multiple dimensions at the same time\n",
    "# (this takes a while to run for no plotting, and thus is commented out)\n",
    "#sparse_data_2d = np.random.randn(10, num_selected_pts)\n",
    "#interp_data_2d = lsurf.interp(selected_pts, sparse_data_2d)\n",
    "\n",
    "# > interp_data_2d.shape\n",
    "# (152893, 10)\n",
    "plt.show()"
   ]
  }
 ],
 "metadata": {
  "kernelspec": {
   "display_name": "Python 3",
   "language": "python",
   "name": "python3"
  },
  "language_info": {
   "codemirror_mode": {
    "name": "ipython",
    "version": 3
   },
   "file_extension": ".py",
   "mimetype": "text/x-python",
   "name": "python",
   "nbconvert_exporter": "python",
   "pygments_lexer": "ipython3",
   "version": "3.7.6"
  }
 },
 "nbformat": 4,
 "nbformat_minor": 4
}
