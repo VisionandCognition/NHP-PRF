{
 "cells": [
  {
   "cell_type": "markdown",
   "metadata": {},
   "source": [
    "## Visualize subcortical pRF data for manuscript     \n",
    "First set up some paths and variables"
   ]
  },
  {
   "cell_type": "code",
   "execution_count": 1,
   "metadata": {},
   "outputs": [],
   "source": [
    "ref_path=/home/chris/Documents/CURRENT_PROJECTS/NHP_MRI/Projects/pRF/FitResults/Reference\n",
    "res_path=/home/chris/Documents/CURRENT_PROJECTS/NHP_MRI/Projects/pRF/FitResults/MRI\n",
    "\n",
    "declare -a subs=(danny eddy)\n",
    "\n",
    "for SUBJ in ${subs[@]}; do\n",
    "    eval ${SUBJ}_t1=${ref_path}/Volumes/anat/${SUBJ}/sub-${SUBJ}_ref_anat_brain_res-0.5x0.5x0.5.nii.gz\n",
    "    eval ${SUBJ}_d99=${ref_path}/Volumes/atlas/${SUBJ}/D99_in_${SUBJ^}_adj.nii.gz\n",
    "    eval ${SUBJ}_roi_path=${ref_path}/Volumes/atlas/${SUBJ}/ROI_manualadjust/1mm\n",
    "done"
   ]
  },
  {
   "cell_type": "markdown",
   "metadata": {},
   "source": [
    "Where to put output"
   ]
  },
  {
   "cell_type": "code",
   "execution_count": 2,
   "metadata": {},
   "outputs": [],
   "source": [
    "subcort_path=${res_path}/subcort\n",
    "mkdir -p ${subcort_path}"
   ]
  },
  {
   "cell_type": "markdown",
   "metadata": {},
   "source": [
    "Create some subcortical ROI masks"
   ]
  },
  {
   "cell_type": "code",
   "execution_count": 18,
   "metadata": {},
   "outputs": [],
   "source": [
    "# cat rois\n",
    "for SUBJ in ${subs[@]}; do\n",
    "    eval fslmaths '$'${SUBJ}_roi_path/LGNm.nii.gz -add '$'${SUBJ}_roi_path/LGNp.nii.gz -bin ${subcort_path}/${SUBJ}_LGN.nii.gz\n",
    "    eval fslmaths '$'${SUBJ}_roi_path/PL.nii.gz -add '$'${SUBJ}_roi_path/PM.nii.gz -bin ${subcort_path}/${SUBJ}_PULV.nii.gz\n",
    "    eval fslmaths ${subcort_path}/${SUBJ}_PULV.nii.gz -add ${subcort_path}/${SUBJ}_LGN.nii.gz -bin ${subcort_path}/${SUBJ}_LGNPULV.nii.gz\n",
    "    eval cp '$'${SUBJ}_roi_path/Striatum.nii.gz ${subcort_path}/${SUBJ}_Striatum.nii.gz\n",
    "done"
   ]
  },
  {
   "cell_type": "markdown",
   "metadata": {},
   "source": [
    "## Which models / HRF / R2-threshold"
   ]
  },
  {
   "cell_type": "code",
   "execution_count": 3,
   "metadata": {},
   "outputs": [],
   "source": [
    "model=csshrf\n",
    "hrf=mhrf\n",
    "RTH=2"
   ]
  },
  {
   "cell_type": "markdown",
   "metadata": {},
   "source": [
    "## Show suprathreshold angles / eccentricity / size"
   ]
  },
  {
   "cell_type": "code",
   "execution_count": 4,
   "metadata": {},
   "outputs": [],
   "source": [
    "M=${model}_cv1_${hrf}\n",
    "#M=${model}_cv1_${hrf}_neggain\n",
    "\n",
    "for SUBJ in ${subs[@]}; do\n",
    "    eval ${SUBJ}_R2=${res_path}/${SUBJ}/${M}/inAnat/Sess-${model}_cv1_${hrf}_meanR2.nii.gz\n",
    "    eval ${SUBJ}_ANG=${res_path}/${SUBJ}/${M}/inAnat/TH_$RTH/ANG_th${RTH}.nii.gz\n",
    "    eval ${SUBJ}_ECC=${res_path}/${SUBJ}/${M}/inAnat/TH_$RTH/ECC_th${RTH}.nii.gz\n",
    "    eval ${SUBJ}_X=${res_path}/${SUBJ}/${M}/inAnat/TH_$RTH/X_th${RTH}.nii.gz\n",
    "    eval ${SUBJ}_Y=${res_path}/${SUBJ}/${M}/inAnat/TH_$RTH/Y_th${RTH}.nii.gz\n",
    "    eval ${SUBJ}_RFS=${res_path}/${SUBJ}/${M}/inAnat/TH_$RTH/RFS_th${RTH}.nii.gz\n",
    "done"
   ]
  },
  {
   "cell_type": "code",
   "execution_count": 57,
   "metadata": {},
   "outputs": [],
   "source": [
    "P=${subcort_path}/${model}_${hrf}_${RTH}\n",
    "#P=${subcort_path}/${model}_neggain_${hrf}_${RTH}\n",
    "mkdir -p ${P}\n",
    "for SUBJ in ${subs[@]}; do\n",
    "    eval fslmaths '$'${SUBJ}_ANG -mas ${subcort_path}/${SUBJ}_LGN.nii.gz ${P}/${SUBJ}_ANG_LGN.nii.gz\n",
    "    eval fslmaths '$'${SUBJ}_ANG -mas ${subcort_path}/${SUBJ}_PULV.nii.gz ${P}/${SUBJ}_ANG_PULV.nii.gz\n",
    "    eval fslmaths '$'${SUBJ}_ANG -mas ${subcort_path}/${SUBJ}_Striatum.nii.gz ${P}/${SUBJ}_ANG_Striatum.nii.gz\n",
    "\n",
    "    eval fslmaths '$'${SUBJ}_ECC -mas ${subcort_path}/${SUBJ}_LGN.nii.gz ${P}/${SUBJ}_ECC_LGN.nii.gz\n",
    "    eval fslmaths '$'${SUBJ}_ECC -mas ${subcort_path}/${SUBJ}_PULV.nii.gz ${P}/${SUBJ}_ECC_PULV.nii.gz\n",
    "    eval fslmaths '$'${SUBJ}_ECC -mas ${subcort_path}/${SUBJ}_Striatum.nii.gz ${P}/${SUBJ}_ECC_Striatum.nii.gz\n",
    "    \n",
    "    eval fslmaths '$'${SUBJ}_X -mas ${subcort_path}/${SUBJ}_LGN.nii.gz ${P}/${SUBJ}_X_LGN.nii.gz\n",
    "    eval fslmaths '$'${SUBJ}_X -mas ${subcort_path}/${SUBJ}_PULV.nii.gz ${P}/${SUBJ}_X_PULV.nii.gz\n",
    "    eval fslmaths '$'${SUBJ}_X -mas ${subcort_path}/${SUBJ}_Striatum.nii.gz ${P}/${SUBJ}_X_Striatum.nii.gz\n",
    "\n",
    "    eval fslmaths '$'${SUBJ}_Y -mas ${subcort_path}/${SUBJ}_LGN.nii.gz ${P}/${SUBJ}_Y_LGN.nii.gz\n",
    "    eval fslmaths '$'${SUBJ}_Y -mas ${subcort_path}/${SUBJ}_PULV.nii.gz ${P}/${SUBJ}_Y_PULV.nii.gz\n",
    "    eval fslmaths '$'${SUBJ}_Y -mas ${subcort_path}/${SUBJ}_Striatum.nii.gz ${P}/${SUBJ}_Y_Striatum.nii.gz\n",
    "\n",
    "    eval fslmaths '$'${SUBJ}_RFS -mas ${subcort_path}/${SUBJ}_LGN.nii.gz ${P}/${SUBJ}_RFS_LGN.nii.gz\n",
    "    eval fslmaths '$'${SUBJ}_RFS -mas ${subcort_path}/${SUBJ}_PULV.nii.gz ${P}/${SUBJ}_RFS_PULV.nii.gz\n",
    "    eval fslmaths '$'${SUBJ}_RFS -mas ${subcort_path}/${SUBJ}_Striatum.nii.gz ${P}/${SUBJ}_RFS_Striatum.nii.gz\n",
    "done"
   ]
  },
  {
   "cell_type": "code",
   "execution_count": 5,
   "metadata": {},
   "outputs": [
    {
     "name": "stdout",
     "output_type": "stream",
     "text": [
      "[1] 4521\n",
      "[2] 4522\n"
     ]
    }
   ],
   "source": [
    "for SUBJ in ${subs[@]}; do\n",
    "    M=${subcort_path}/${model}_${hrf}_${RTH}\n",
    "    P=${subcort_path}/${model}_${hrf}_${RTH}/${SUBJ}\n",
    "    eval '/opt/FSLeyes/fsleyes -no $'${SUBJ}_t1 \\\n",
    "        '$'${SUBJ}_R2 -dr 0 5 -cm brain_colours_5redyell_iso \\\n",
    "        ${P}_ANG_LGN.nii.gz -dr 0 360 -cm hsv \\\n",
    "        ${P}_ANG_PULV.nii.gz -dr 0 360 -cm hsv \\\n",
    "        ${P}_ANG_Striatum.nii.gz -dr 0 360 -cm hsv \\\n",
    "        ${P}_ECC_LGN.nii.gz -dr 0 10 -cm brain_colours_5redyell_iso \\\n",
    "        ${P}_ECC_PULV.nii.gz -dr 0 10 -cm brain_colours_5redyell_iso \\\n",
    "        ${P}_ECC_Striatum.nii.gz -dr 0 10 -cm brain_colours_5redyell_iso \\\n",
    "        ${P}_RFS_LGN.nii.gz -dr 0 4 -cm brain_colours_5redyell_iso \\\n",
    "        ${P}_RFS_PULV.nii.gz -dr 0 4 -cm brain_colours_5redyell_iso \\\n",
    "        ${P}_RFS_Striatum.nii.gz -dr 0 4 -cm brain_colours_5redyell_iso &       \n",
    "done\n",
    "\n",
    "#         ${P}_X_LGN.nii.gz -dr -10 10 -cm render3 \\\n",
    "#         ${P}_X_PULV.nii.gz -dr -10 10 -cm render3 \\\n",
    "#         ${P}_X_Striatum.nii.gz -dr -10 10 -cm render3 \\\n",
    "#         ${P}_Y_LGN.nii.gz -dr -10 10 -cm render3 \\\n",
    "#         ${P}_Y_PULV.nii.gz -dr -10 10 -cm render3 \\\n",
    "#         ${P}_Y_Striatum.nii.gz -dr -10 10 -cm render3 \\"
   ]
  },
  {
   "cell_type": "code",
   "execution_count": 74,
   "metadata": {},
   "outputs": [
    {
     "name": "stdout",
     "output_type": "stream",
     "text": [
      "\n",
      "(fsleyes:11686): dbind-WARNING **: 12:53:20.873: Couldn't register with accessibility bus: Did not receive a reply. Possible causes include: the remote application did not send a reply, the message bus security policy blocked the reply, the reply timeout expired, or the network connection was broken.\n",
      "\n",
      "(fsleyes:11685): dbind-WARNING **: 12:53:20.886: Couldn't register with accessibility bus: Did not receive a reply. Possible causes include: the remote application did not send a reply, the message bus security policy blocked the reply, the reply timeout expired, or the network connection was broken.\n",
      "unrecognized arguments: /home/chris/Documents/CURRENT_PROJECTS/NHP_MRI/Projects/pRF/FitResults/MRI/eddy/css_cv1_mhrf/inAnat/Sess-css_cv1_mhrf_meanR2.nii.gz /home/chris/Documents/CURRENT_PROJECTS/NHP_MRI/Projects/pRF/FitResults/MRI/subcort/css_mhrf_2/eddy_ANG_LGN.nii.gz /home/chris/Documents/CURRENT_PROJECTS/NHP_MRI/Projects/pRF/FitResults/MRI/subcort/css_mhrf_2/eddy_ANG_PULV.nii.gz /home/chris/Documents/CURRENT_PROJECTS/NHP_MRI/Projects/pRF/FitResults/MRI/subcort/css_mhrf_2/eddy_ANG_Striatum.nii.gz /home/chris/Documents/CURRENT_PROJECTS/NHP_MRI/Projects/pRF/FitResults/MRI/subcort/css_mhrf_2/eddy_ECC_LGN.nii.gz /home/chris/Documents/CURRENT_PROJECTS/NHP_MRI/Projects/pRF/FitResults/MRI/subcort/css_mhrf_2/eddy_ECC_PULV.nii.gz /home/chris/Documents/CURRENT_PROJECTS/NHP_MRI/Projects/pRF/FitResults/MRI/subcort/css_mhrf_2/eddy_ECC_Striatum.nii.gz /home/chris/Documents/CURRENT_PROJECTS/NHP_MRI/Projects/pRF/FitResults/MRI/subcort/css_mhrf_2/eddy_RFS_LGN.nii.gz /home/chris/Documents/CURRENT_PROJECTS/NHP_MRI/Projects/pRF/FitResults/MRI/subcort/css_mhrf_2/eddy_RFS_PULV.nii.gz /home/chris/Documents/CURRENT_PROJECTS/NHP_MRI/Projects/pRF/FitResults/MRI/subcort/css_mhrf_2/eddy_RFS_Striatum.nii.gz\n",
      "\n",
      "FSLeyes version 0.32.3\n",
      "\n",
      "Usage: fsleyes [options] file [displayOpts] file [displayOpts] ...\n",
      "\n",
      "Options for 'volume' overlays\n",
      "        [-n NAME] [-d] [-a PERC] [-b PERC] [-c PERC] [-ll] [-lh] [-or LO HI]\n",
      "        [-un] [-dr LO HI] [-cr LO HI] [-g REAL] [-ch {R,G,B,A}] [-ic]\n",
      "        [-cm CMAP] [-nc CMAP] [-cmr INT] [-in {none,linear,spline}] [-inc]\n",
      "        [-i] [-ns INT] [-bf REAL] [-s INT] [-r INT] [-nis INT]\n",
      "        [-m {intersection,union,complement}] [-v INT] [-dt DITHERING]\n",
      "        [-cp POS AZI INC] [-cl FILE]\n",
      "\n",
      "unrecognized arguments: /home/chris/Documents/CURRENT_PROJECTS/NHP_MRI/Projects/pRF/FitResults/MRI/danny/css_cv1_mhrf/inAnat/Sess-css_cv1_mhrf_meanR2.nii.gz /home/chris/Documents/CURRENT_PROJECTS/NHP_MRI/Projects/pRF/FitResults/MRI/subcort/css_mhrf_2/danny_ANG_LGN.nii.gz /home/chris/Documents/CURRENT_PROJECTS/NHP_MRI/Projects/pRF/FitResults/MRI/subcort/css_mhrf_2/danny_ANG_PULV.nii.gz /home/chris/Documents/CURRENT_PROJECTS/NHP_MRI/Projects/pRF/FitResults/MRI/subcort/css_mhrf_2/danny_ANG_Striatum.nii.gz /home/chris/Documents/CURRENT_PROJECTS/NHP_MRI/Projects/pRF/FitResults/MRI/subcort/css_mhrf_2/danny_ECC_LGN.nii.gz /home/chris/Documents/CURRENT_PROJECTS/NHP_MRI/Projects/pRF/FitResults/MRI/subcort/css_mhrf_2/danny_ECC_PULV.nii.gz /home/chris/Documents/CURRENT_PROJECTS/NHP_MRI/Projects/pRF/FitResults/MRI/subcort/css_mhrf_2/danny_ECC_Striatum.nii.gz /home/chris/Documents/CURRENT_PROJECTS/NHP_MRI/Projects/pRF/FitResults/MRI/subcort/css_mhrf_2/danny_RFS_LGN.nii.gz /home/chris/Documents/CURRENT_PROJECTS/NHP_MRI/Projects/pRF/FitResults/MRI/subcort/css_mhrf_2/danny_RFS_PULV.nii.gz /home/chris/Documents/CURRENT_PROJECTS/NHP_MRI/Projects/pRF/FitResults/MRI/subcort/css_mhrf_2/danny_RFS_Striatum.nii.gz\n",
      "\n",
      "FSLeyes version 0.32.3\n",
      "\n",
      "Usage: fsleyes [options] file [displayOpts] file [displayOpts] ...\n",
      "\n",
      "Options for 'volume' overlays\n",
      "        [-n NAME] [-d] [-a PERC] [-b PERC] [-c PERC] [-ll] [-lh] [-or LO HI]\n",
      "        [-un] [-dr LO HI] [-cr LO HI] [-g REAL] [-ch {R,G,B,A}] [-ic]\n",
      "        [-cm CMAP] [-nc CMAP] [-cmr INT] [-in {none,linear,spline}] [-inc]\n",
      "        [-i] [-ns INT] [-bf REAL] [-s INT] [-r INT] [-nis INT]\n",
      "        [-m {intersection,union,complement}] [-v INT] [-dt DITHERING]\n",
      "        [-cp POS AZI INC] [-cl FILE]\n",
      "\n",
      "/home/chris/Documents/CURRENT_PROJECTS/NHP_MRI/Projects/pRF/FitResults/MRI/eddy/css_cv1_mhrf/inAnat/Sess-css_cv1_mhrf_meanR2.nii.gz\n",
      "[3]-  Exit 1                  eval '/opt/FSLeyes/fsleyes -no $'${SUBJ}_t1 '$'${SUBJ}_R2 -dr 0 5 -cm brain_colours_5redyell_iso ${P}_ANG_LGN.nii.gz -dr 0 360 -cm hsv ${P}_ANG_PULV.nii.gz -dr 0 360 -cm hsv ${P}_ANG_Striatum.nii.gz -dr 0 360 -cm hsv ${P}_ECC_LGN.nii.gz -dr 0 10 -cm brain_colours_5redyell_iso ${P}_ECC_PULV.nii.gz -dr 0 10 -cm brain_colours_5redyell_iso ${P}_ECC_Striatum.nii.gz -dr 0 10 -cm brain_colours_5redyell_iso ${P}_RFS_LGN.nii.gz -dr 0 4 -cm brain_colours_5redyell_iso ${P}_RFS_PULV.nii.gz -dr 0 4 -cm brain_colours_5redyell_iso ${P}_RFS_Striatum.nii.gz -dr 0 4 -cm brain_colours_5redyell_iso\n",
      "[4]+  Exit 1                  eval '/opt/FSLeyes/fsleyes -no $'${SUBJ}_t1 '$'${SUBJ}_R2 -dr 0 5 -cm brain_colours_5redyell_iso ${P}_ANG_LGN.nii.gz -dr 0 360 -cm hsv ${P}_ANG_PULV.nii.gz -dr 0 360 -cm hsv ${P}_ANG_Striatum.nii.gz -dr 0 360 -cm hsv ${P}_ECC_LGN.nii.gz -dr 0 10 -cm brain_colours_5redyell_iso ${P}_ECC_PULV.nii.gz -dr 0 10 -cm brain_colours_5redyell_iso ${P}_ECC_Striatum.nii.gz -dr 0 10 -cm brain_colours_5redyell_iso ${P}_RFS_LGN.nii.gz -dr 0 4 -cm brain_colours_5redyell_iso ${P}_RFS_PULV.nii.gz -dr 0 4 -cm brain_colours_5redyell_iso ${P}_RFS_Striatum.nii.gz -dr 0 4 -cm brain_colours_5redyell_iso\n",
      "/home/chris/Documents/CURRENT_PROJECTS/NHP_MRI/Projects/pRF/FitResults/MRI/subcort/css_mhrf_2/eddy_ANG_LGN.nii.gz\n"
     ]
    }
   ],
   "source": [
    "eval echo '$'${SUBJ}_R2\n",
    "eval echo ${P}_ANG_LGN.nii.gz"
   ]
  },
  {
   "cell_type": "code",
   "execution_count": null,
   "metadata": {},
   "outputs": [],
   "source": []
  }
 ],
 "metadata": {
  "kernelspec": {
   "display_name": "Bash",
   "language": "bash",
   "name": "bash"
  },
  "language_info": {
   "codemirror_mode": "shell",
   "file_extension": ".sh",
   "mimetype": "text/x-sh",
   "name": "bash"
  }
 },
 "nbformat": 4,
 "nbformat_minor": 4
}
