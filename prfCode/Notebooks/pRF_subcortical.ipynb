{
 "cells": [
  {
   "cell_type": "markdown",
   "metadata": {},
   "source": [
    "## Visualize subcortical pRF data for manuscript"
   ]
  },
  {
   "cell_type": "code",
   "execution_count": 1,
   "metadata": {},
   "outputs": [],
   "source": [
    "ref_path=/home/chris/Documents/CURRENT_PROJECTS/NHP_MRI/Projects/pRF/FitResults/Reference\n",
    "res_path=/home/chris/Documents/CURRENT_PROJECTS/NHP_MRI/Projects/pRF/FitResults/MRI\n",
    "\n",
    "declare -a subs=(danny eddy)\n",
    "\n",
    "for SUBJ in ${subs[@]}; do\n",
    "    eval ${SUBJ}_t1=${ref_path}/Volumes/anat/${SUBJ}/sub-${SUBJ}_ref_anat_brain_res-0.5x0.5x0.5.nii.gz\n",
    "    eval ${SUBJ}_d99=${ref_path}/Volumes/atlas/${SUBJ}/D99_in_${SUBJ^}_adj.nii.gz\n",
    "    eval ${SUBJ}_roi_path=${ref_path}/Volumes/atlas/${SUBJ}/ROI_manualadjust\n",
    "done"
   ]
  },
  {
   "cell_type": "code",
   "execution_count": 2,
   "metadata": {},
   "outputs": [],
   "source": [
    "subcort_path=${res_path}/subcort\n",
    "mkdir -p ${subcort_path}"
   ]
  },
  {
   "cell_type": "code",
   "execution_count": 3,
   "metadata": {},
   "outputs": [],
   "source": [
    "# cat rois\n",
    "for SUBJ in ${subs[@]}; do\n",
    "    eval fslmaths '$'${SUBJ}_roi_path/LGNm.nii.gz -add '$'${SUBJ}_roi_path/LGNp.nii.gz -bin ${subcort_path}/${SUBJ}_LGN.nii.gz\n",
    "    eval fslmaths '$'${SUBJ}_roi_path/PL.nii.gz -add '$'${SUBJ}_roi_path/PM.nii.gz -bin ${subcort_path}/${SUBJ}_PULV.nii.gz\n",
    "    eval fslmaths ${subcort_path}/${SUBJ}_PULV.nii.gz -add ${subcort_path}/${SUBJ}_LGN.nii.gz -bin ${subcort_path}/${SUBJ}_LGNPULV.nii.gz\n",
    "    eval cp '$'${SUBJ}_roi_path/Striatum.nii.gz ${subcort_path}/${SUBJ}_Striatum.nii.gz\n",
    "done"
   ]
  },
  {
   "cell_type": "markdown",
   "metadata": {},
   "source": [
    "## Show suprathreshold angles "
   ]
  },
  {
   "cell_type": "code",
   "execution_count": 4,
   "metadata": {},
   "outputs": [],
   "source": [
    "model=csshrf\n",
    "hrf=mhrf\n",
    "RTH=2"
   ]
  },
  {
   "cell_type": "code",
   "execution_count": 5,
   "metadata": {},
   "outputs": [],
   "source": [
    "for SUBJ in ${subs[@]}; do\n",
    "    eval ${SUBJ}_R2=${res_path}/${SUBJ}/${model}_cv1_${hrf}/inAnat/Sess-${model}_cv1_${hrf}_meanR2.nii.gz\n",
    "    eval ${SUBJ}_ANG=${res_path}/${SUBJ}/${model}_cv1_${hrf}/inAnat/TH_$RTH/ANG_th${RTH}.nii.gz\n",
    "    eval ${SUBJ}_ECC=${res_path}/${SUBJ}/${model}_cv1_${hrf}/inAnat/TH_$RTH/ANG_th${RTH}.nii.gz\n",
    "    eval ${SUBJ}_RFS=${res_path}/${SUBJ}/${model}_cv1_${hrf}/inAnat/TH_$RTH/ANG_th${RTH}.nii.gz\n",
    "done"
   ]
  },
  {
   "cell_type": "code",
   "execution_count": 9,
   "metadata": {},
   "outputs": [
    {
     "name": "stdout",
     "output_type": "stream",
     "text": [
      "unrecognized arguments: n/home/chris/Documents/CURRENT_PROJECTS/NHP_MRI/Projects/pRF/FitResults/MRI/eddy/csshrf_cv1_mhrf/inAnat/TH_2/ANG_th2.nii.gz\n",
      "\n",
      "FSLeyes version 0.32.3\n",
      "\n",
      "Usage: fsleyes [options] file [displayOpts] file [displayOpts] ...\n",
      "\n",
      "Options for 'volume' overlays\n",
      "        [-n NAME] [-d] [-a PERC] [-b PERC] [-c PERC] [-ll] [-lh] [-or LO HI]\n",
      "        [-un] [-dr LO HI] [-cr LO HI] [-g REAL] [-ch {R,G,B,A}] [-ic]\n",
      "        [-cm CMAP] [-nc CMAP] [-cmr INT] [-in {none,linear,spline}] [-inc]\n",
      "        [-i] [-ns INT] [-bf REAL] [-s INT] [-r INT] [-nis INT]\n",
      "        [-m {intersection,union,complement}] [-v INT] [-dt DITHERING]\n",
      "        [-cp POS AZI INC] [-cl FILE]\n",
      "\n",
      "unrecognized arguments: n/home/chris/Documents/CURRENT_PROJECTS/NHP_MRI/Projects/pRF/FitResults/MRI/danny/csshrf_cv1_mhrf/inAnat/TH_2/ANG_th2.nii.gz\n",
      "\n",
      "FSLeyes version 0.32.3\n",
      "\n",
      "Usage: fsleyes [options] file [displayOpts] file [displayOpts] ...\n",
      "\n",
      "Options for 'volume' overlays\n",
      "        [-n NAME] [-d] [-a PERC] [-b PERC] [-c PERC] [-ll] [-lh] [-or LO HI]\n",
      "        [-un] [-dr LO HI] [-cr LO HI] [-g REAL] [-ch {R,G,B,A}] [-ic]\n",
      "        [-cm CMAP] [-nc CMAP] [-cmr INT] [-in {none,linear,spline}] [-inc]\n",
      "        [-i] [-ns INT] [-bf REAL] [-s INT] [-r INT] [-nis INT]\n",
      "        [-m {intersection,union,complement}] [-v INT] [-dt DITHERING]\n",
      "        [-cp POS AZI INC] [-cl FILE]\n",
      "\n",
      "[1]-  Exit 1                  eval '/opt/FSLeyes/fsleyes $'${SUBJ}_t1' n$'${SUBJ}_ANG' $'${SUBJ}_R2 ${subcort_path}/${SUBJ}_LGNPULV.nii.gz ${subcort_path}/${SUBJ}_LGN.nii.gz ${subcort_path}/${SUBJ}_PULV.nii.gz ${subcort_path}/${SUBJ}_Striatum.nii.gz\n",
      "[2]+  Exit 1                  eval '/opt/FSLeyes/fsleyes $'${SUBJ}_t1' n$'${SUBJ}_ANG' $'${SUBJ}_R2 ${subcort_path}/${SUBJ}_LGNPULV.nii.gz ${subcort_path}/${SUBJ}_LGN.nii.gz ${subcort_path}/${SUBJ}_PULV.nii.gz ${subcort_path}/${SUBJ}_Striatum.nii.gz\n",
      "[1] 20350\n",
      "[2] 20351\n"
     ]
    }
   ],
   "source": [
    "for SUBJ in ${subs[@]}; do\n",
    "    eval '/opt/FSLeyes/fsleyes $'${SUBJ}_t1' $'${SUBJ}_ANG' $'${SUBJ}_R2 \\\n",
    "        ${subcort_path}/${SUBJ}_LGNPULV.nii.gz ${subcort_path}/${SUBJ}_LGN.nii.gz \\\n",
    "        ${subcort_path}/${SUBJ}_PULV.nii.gz ${subcort_path}/${SUBJ}_Striatum.nii.gz &\n",
    "done"
   ]
  },
  {
   "cell_type": "code",
   "execution_count": null,
   "metadata": {},
   "outputs": [],
   "source": []
  }
 ],
 "metadata": {
  "kernelspec": {
   "display_name": "Bash",
   "language": "bash",
   "name": "bash"
  },
  "language_info": {
   "codemirror_mode": "shell",
   "file_extension": ".sh",
   "mimetype": "text/x-sh",
   "name": "bash"
  }
 },
 "nbformat": 4,
 "nbformat_minor": 4
}
