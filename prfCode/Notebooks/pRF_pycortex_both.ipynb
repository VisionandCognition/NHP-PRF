{
 "cells": [
  {
   "cell_type": "markdown",
   "metadata": {},
   "source": [
    "# Project pRF analysis results to pycortex surfaces\n",
    "Make sure you have created the pycortex entries for these individuals (https://github.com/VisionandCognition/NHP-pycortex)     \n",
    "Strategy:    \n",
    "- Load all (unthresholded) results into sorted numpy arrays with nibabel\n",
    "- Also create pycortex volume objects\n",
    "- Save them in an ordered dictionary\n",
    "- Define some functions for masking\n",
    "- Perform any additional post-processing"
   ]
  },
  {
   "cell_type": "markdown",
   "metadata": {},
   "source": [
    "### Import the required modules"
   ]
  },
  {
   "cell_type": "code",
   "execution_count": 3,
   "metadata": {},
   "outputs": [],
   "source": [
    "import cortex\n",
    "import nibabel as nib \n",
    "import numpy as np\n",
    "import pandas as pd\n",
    "import os, shutil, copy\n",
    "\n",
    "from matplotlib import pyplot as plt"
   ]
  },
  {
   "cell_type": "markdown",
   "metadata": {},
   "source": [
    "### Set subject name and path to FitResults"
   ]
  },
  {
   "cell_type": "code",
   "execution_count": 4,
   "metadata": {},
   "outputs": [],
   "source": [
    "#subj = 'Danny' # 'Danny'/'Eddy'\n",
    "subs = ['Danny', 'Eddy']\n",
    "FitResPath = os.path.join('/Users','chris','Documents','MRI_ANALYSIS','NHP-PRF','FitResults')\n",
    "ManualMaskPath = os.path.join('/Users','chris','Dropbox','GIT_Support','NHP-BIDS','manual-masks')"
   ]
  },
  {
   "cell_type": "markdown",
   "metadata": {},
   "source": [
    "### Specify which models and results to include\n",
    "Making changes here may or may not break subsequent as it relies on some of these things being present (e.g., R2, R2_1, and R2_2)"
   ]
  },
  {
   "cell_type": "code",
   "execution_count": 5,
   "metadata": {},
   "outputs": [],
   "source": [
    "Models = {\n",
    "    'dhrf' : ['linhrf_cv1_dhrf','linhrf_cv1_dhrf_neggain','csshrf_cv1_dhrf','doghrf_cv1_dhrf'],\n",
    "    'mhrf' : ['linhrf_cv1_mhrf','linhrf_cv1_mhrf_neggain','csshrf_cv1_mhrf','doghrf_cv1_mhrf'],\n",
    "    'names' : ['lin','lin_ng','css','dog'],\n",
    "}\n",
    "Res_type = ['ANG', 'ECC', 'EXPT', 'FWHM', 'GAIN', 'IMAG', 'REAL', 'RFS', 'X', 'Y', 'NAMP', 'SDRATIO']\n",
    "xfm = 'epi2surf'"
   ]
  },
  {
   "cell_type": "markdown",
   "metadata": {},
   "source": [
    "### Create a volume to vertex mapper for this subject"
   ]
  },
  {
   "cell_type": "code",
   "execution_count": 6,
   "metadata": {},
   "outputs": [],
   "source": [
    "Vol2Vert={}\n",
    "for s in subs:\n",
    "    Vol2Vert[s] = cortex.get_mapper(s, xfm, 'line_nearest', recache=True)"
   ]
  },
  {
   "cell_type": "markdown",
   "metadata": {},
   "source": [
    "### Create a dictionary to collect all FitResults in"
   ]
  },
  {
   "cell_type": "code",
   "execution_count": 7,
   "metadata": {},
   "outputs": [],
   "source": [
    "# this will be the structure of data collection\n",
    "SR={}\n",
    "for s in subs:\n",
    "    SR[s] = {\n",
    "        'subject' : s,\n",
    "        'xfm' : xfm,\n",
    "        'mHRF' : {\n",
    "            'arr' : {},\n",
    "            'vol' : {},\n",
    "        },\n",
    "        'dHRF' : {\n",
    "            'arr' : {},\n",
    "            'vol' : {},\n",
    "        },\n",
    "    }"
   ]
  },
  {
   "cell_type": "markdown",
   "metadata": {},
   "source": [
    "### Populate the dictionary with the data"
   ]
  },
  {
   "cell_type": "code",
   "execution_count": 8,
   "metadata": {},
   "outputs": [
    {
     "name": "stdout",
     "output_type": "stream",
     "text": [
      "Processing mHRF: lin lin_ng css dog\n",
      "Processing dHRF: lin lin_ng css dog\n",
      "Processing mHRF: lin lin_ng css dog\n",
      "Processing dHRF: lin lin_ng css dog\n"
     ]
    }
   ],
   "source": [
    "# Get the data\n",
    "for s in subs:\n",
    "    for h in ['m','d']:\n",
    "        print('Processing ' + h + 'HRF:', end='')\n",
    "        for M in Models[h + 'hrf']:\n",
    "            # get model idx so we create a shorter variable name\n",
    "            midx = Models[h + 'hrf'].index(M)\n",
    "            print(' ' + Models['names'][midx], end='')\n",
    "\n",
    "            # get the mean R2 map\n",
    "            volpath = os.path.join(FitResPath,'MRI',s.lower(),M,'Sess-' + M + '_meanR2.nii.gz')\n",
    "            volpath1 = os.path.join(FitResPath,'MRI',s.lower(),M,'Sess-' + M + '_R2_1.nii.gz')\n",
    "            volpath2 = os.path.join(FitResPath,'MRI',s.lower(),M,'Sess-' + M + '_R2_2.nii.gz')\n",
    "\n",
    "            # load the results into numpy arrays with nibabel\n",
    "            R2 = np.array(nib.load(volpath).dataobj)\n",
    "            R2_1 = np.array(nib.load(volpath1).dataobj)\n",
    "            R2_2 = np.array(nib.load(volpath2).dataobj)\n",
    "\n",
    "            # convert to pycortex volumes\n",
    "            R2v = cortex.Volume(R2.transpose(2,1,0), s, xfm)\n",
    "            R2_1v = cortex.Volume(R2_1.transpose(2,1,0), s, xfm)\n",
    "            R2_2v = cortex.Volume(R2_2.transpose(2,1,0), s, xfm)\n",
    "\n",
    "            # add info to dictionaries\n",
    "            # numpy arrays\n",
    "            FitRes = {\n",
    "                'R2' : R2,\n",
    "                'R2_1' : R2_1,\n",
    "                'R2_2' : R2_2\n",
    "                }\n",
    "            # pycortex volumes\n",
    "            FitRes_vol = {\n",
    "                'R2' : R2v,\n",
    "                'R2_1' : R2_1v,\n",
    "                'R2_2' : R2_2v\n",
    "                }\n",
    "\n",
    "            # also get othere results\n",
    "            for R in Res_type:\n",
    "                volpath = os.path.join(FitResPath,'MRI',s.lower(),M,'TH_0', R + '_th0.nii.gz')\n",
    "                if os.path.exists(volpath):\n",
    "                    FitRes[R] = np.array(nib.load(volpath).dataobj)\n",
    "                    FitRes_vol[R] = cortex.Volume(FitRes[R].transpose(2,1,0), s, xfm)\n",
    "\n",
    "            # bring it all together\n",
    "            SR[s][h + 'HRF']['arr'][Models['names'][midx]] = FitRes\n",
    "            SR[s][h + 'HRF']['vol'][Models['names'][midx]] = FitRes_vol\n",
    "        print('')"
   ]
  },
  {
   "cell_type": "code",
   "execution_count": 9,
   "metadata": {},
   "outputs": [],
   "source": [
    "if False:\n",
    "    subj = 'Eddy'\n",
    "    # Check in webviewer \n",
    "    cortex.webgl.show(data=SR[subj]['mHRF']['vol']['lin'])\n",
    "    cortex.webgl.show(data=SR[subj]['mHRF']['vol']['lin_ng'])"
   ]
  },
  {
   "cell_type": "code",
   "execution_count": 10,
   "metadata": {},
   "outputs": [
    {
     "name": "stdout",
     "output_type": "stream",
     "text": [
      "Started server on port 65361\n",
      "Started server on port 47296\n",
      "Stopping server\n",
      "Stopping server\n"
     ]
    }
   ],
   "source": [
    "R2_diffarray={}\n",
    "for s in subs:\n",
    "    R2_diffarray[s] = SR[s]['mHRF']['arr']['lin']['R2'] - SR[s]['mHRF']['arr']['lin_ng']['R2']\n",
    "    SR[s]['mHRF']['vol']['lin_ng']['R2_DIFF'] = cortex.Volume(R2_diffarray[s].transpose(2,1,0), s, xfm)\n",
    "    cortex.webgl.show(data=SR[s]['mHRF']['vol']['lin_ng'])"
   ]
  },
  {
   "cell_type": "markdown",
   "metadata": {},
   "source": [
    "### Do some checks to see if this worked as expected\n",
    "Once we know it worked we can switch this off again"
   ]
  },
  {
   "cell_type": "code",
   "execution_count": 11,
   "metadata": {},
   "outputs": [],
   "source": [
    "if False:\n",
    "    subj='Danny'\n",
    "    # Inspect the result volumes (should be numpy arrays)\n",
    "    RR = copy.copy(SR[subj]['mHRF']['arr']['lin']['R2']) # copy the R2 values for some model\n",
    "    RR[RR < 5] ='nan' # threshold it to some level\n",
    "    \n",
    "    cortex.webgl.show(data=cortex.Volume(RR.transpose(2,1,0), subj, xfm)) # check to seeit worked"
   ]
  },
  {
   "cell_type": "markdown",
   "metadata": {},
   "source": [
    "### Define a function to mask the results based on R2 values\n",
    "This function makes a deepcopy of the input dictionary to prevend overwriting it with masked data. Than masks it with the provided R2-threshold"
   ]
  },
  {
   "cell_type": "code",
   "execution_count": 12,
   "metadata": {},
   "outputs": [],
   "source": [
    "def r2mask(DataDict,RTH):\n",
    "    DD = copy.deepcopy(DataDict) # copy the original data so it won't get overwritten\n",
    "    # mask the numpy arrays by inserting nan's\n",
    "    for hrf in ['mHRF','dHRF']:\n",
    "        for m in DD[hrf]['arr']:\n",
    "            # mask all available outputs except for R2\n",
    "            for res in DD[hrf]['arr'][m]:\n",
    "                if res is not 'R2':\n",
    "                    with np.errstate(invalid='ignore'):\n",
    "                        DD[hrf]['arr'][m][res][ DD[hrf]['arr'][m]['R2'] < RTH ] = 'nan'\n",
    "                    # also convert to the pycortex volume\n",
    "                    DD[hrf]['vol'][m][res] = cortex.Volume(DD[hrf]['arr'][m][res].transpose(2,1,0), DD['subject'], DD['xfm'])\n",
    "            # mask R2            \n",
    "            with np.errstate(invalid='ignore'):\n",
    "                DD[hrf]['arr'][m]['R2'][ DD[hrf]['arr'][m]['R2'] < RTH ] = 'nan' \n",
    "            DD[hrf]['vol'][m]['R2m'] = cortex.Volume(DD[hrf]['arr'][m]['R2'].transpose(2,1,0), DD['subject'], DD['xfm'])\n",
    "\n",
    "    return DD"
   ]
  },
  {
   "cell_type": "markdown",
   "metadata": {},
   "source": [
    "Check whether the masking function works"
   ]
  },
  {
   "cell_type": "code",
   "execution_count": 13,
   "metadata": {},
   "outputs": [],
   "source": [
    "if False:\n",
    "    mFR = r2mask(SR[subj],2)\n",
    "    cortex.webgl.show(data=mFR['mHRF']['vol']['lin'])"
   ]
  },
  {
   "cell_type": "markdown",
   "metadata": {},
   "source": [
    "### Get D99 atlas information "
   ]
  },
  {
   "cell_type": "code",
   "execution_count": 14,
   "metadata": {},
   "outputs": [],
   "source": [
    "# read atlas labels\n",
    "D99_inFunc = {}\n",
    "for subj in subs:\n",
    "    D99_inFunc[subj]={}\n",
    "    D99_inFunc[subj]['path'] = os.path.join(ManualMaskPath,'sub-' + subj.lower(),'atlas','D99_in_' + subj + '_adj_inFunc.nii')\n",
    "    D99_inFunc[subj]['arr'] = np.array(nib.load(D99_inFunc[subj]['path']).dataobj)\n",
    "    D99_inFunc[subj]['vol'] = cortex.Volume(D99_inFunc[subj]['arr'].transpose(2,1,0), subj, xfm)\n",
    "    D99_inFunc[subj]['labelpath'] = os.path.join(ManualMaskPath,'sub-' + subj.lower(),'atlas','D99_labeltable_reformat.txt')\n",
    "\n",
    "    D99_inFunc[subj]['labels'] = {}\n",
    "    with open(D99_inFunc[subj]['labelpath']) as f:\n",
    "        for line in f:\n",
    "            labelnum, label = line.strip().split(' ',1)\n",
    "            D99_inFunc[subj]['labels'][label.strip()] = int(labelnum)\n",
    "    #print(D99_inFunc['labels'])"
   ]
  },
  {
   "cell_type": "code",
   "execution_count": 27,
   "metadata": {},
   "outputs": [
    {
     "name": "stdout",
     "output_type": "stream",
     "text": [
      "Started server on port 48590\n"
     ]
    }
   ],
   "source": [
    "if True:\n",
    "    subj='Danny'\n",
    "    cortex.webgl.show(data=D99_inFunc[subj]['vol'])"
   ]
  },
  {
   "cell_type": "markdown",
   "metadata": {},
   "source": [
    "### Define a function that returns ROI names from voxel label number"
   ]
  },
  {
   "cell_type": "code",
   "execution_count": 15,
   "metadata": {},
   "outputs": [],
   "source": [
    "def get_roiname(LabelDict,LabelNum):\n",
    "    for name, number in LabelDict.items():\n",
    "        if number == LabelNum:\n",
    "            return name"
   ]
  },
  {
   "cell_type": "code",
   "execution_count": 16,
   "metadata": {},
   "outputs": [
    {
     "name": "stdout",
     "output_type": "stream",
     "text": [
      "Bmc\n"
     ]
    }
   ],
   "source": [
    "# test if the get_roiname function works\n",
    "if True:\n",
    "    subj='Danny'\n",
    "    roi = get_roiname(D99_inFunc[subj]['labels'],147)\n",
    "    print(roi)"
   ]
  },
  {
   "cell_type": "markdown",
   "metadata": {},
   "source": [
    "### Define a function that returns data masked by ROI"
   ]
  },
  {
   "cell_type": "code",
   "execution_count": 17,
   "metadata": {},
   "outputs": [],
   "source": [
    "def roimask(DataDict,AtlasDict,rois):\n",
    "    # DataDict is the dictionary of results\n",
    "    # AtlasDict is a dictionary of D99 atlas info\n",
    "    # rois is a list of rois to include\n",
    "    \n",
    "    DD = copy.deepcopy(DataDict) # copy the original data so it won't get overwritten\n",
    "    AA = copy.deepcopy(AtlasDict) # copy the original data so it won't get overwritten\n",
    "    \n",
    "    # Create a mask that includes all rois in the list\n",
    "    mask = np.zeros(AA['arr'].shape)\n",
    "    for r in rois:\n",
    "        tmask = AA['arr']==AA['labels'][r]\n",
    "        mask = mask + tmask\n",
    "    mask[mask > 0]\n",
    "    \n",
    "    # mask the numpy arrays by inserting nan's\n",
    "    for hrf in ['mHRF','dHRF']:\n",
    "        for m in DD[hrf]['arr']:\n",
    "            # mask all available outputs except for R2\n",
    "            for res in DD[hrf]['arr'][m]:\n",
    "                with np.errstate(invalid='ignore'):\n",
    "                    DD[hrf]['arr'][m][res][ mask < 1 ] = 'nan'\n",
    "                # also convert to the pycortex volume\n",
    "                DD[hrf]['vol'][m][res] = cortex.Volume(DD[hrf]['arr'][m][res].transpose(2,1,0), DD['subject'], DD['xfm'])\n",
    "    return DD"
   ]
  },
  {
   "cell_type": "code",
   "execution_count": 18,
   "metadata": {},
   "outputs": [],
   "source": [
    "# test this function\n",
    "if False:\n",
    "    subj='Danny'\n",
    "    V1Res = roimask(SR[subj],D99_inFunc[subj],['V1'])\n",
    "    cortex.webgl.show(data=V1Res['mHRF']['vol']['lin'])"
   ]
  },
  {
   "cell_type": "code",
   "execution_count": 19,
   "metadata": {},
   "outputs": [],
   "source": [
    "# test masking by ROI and R2\n",
    "if False:\n",
    "    subj='Danny'\n",
    "    V1Res = roimask(SR[subj],D99_inFunc[subj],['V1'])\n",
    "    mV1Res = r2mask(V1Res,4)\n",
    "    cortex.webgl.show(data=mV1Res['mHRF']['vol']['lin'])"
   ]
  },
  {
   "cell_type": "markdown",
   "metadata": {},
   "source": [
    "## Create visualizations for manuscript figures"
   ]
  },
  {
   "cell_type": "code",
   "execution_count": 31,
   "metadata": {},
   "outputs": [
    {
     "name": "stdout",
     "output_type": "stream",
     "text": [
      "Started server on port 10818\n"
     ]
    },
    {
     "data": {
      "text/plain": [
       "<JS: window.viewer>"
      ]
     },
     "execution_count": 31,
     "metadata": {},
     "output_type": "execute_result"
    },
    {
     "name": "stdout",
     "output_type": "stream",
     "text": [
      "Stopping server\n",
      "Stopping server\n"
     ]
    }
   ],
   "source": [
    "subj = 'Eddy'\n",
    "hrf = 'mHRF'\n",
    "model = 'css'\n",
    "\n",
    "M1 = r2mask(SR[subj],5)\n",
    "cortex.webgl.show(data=M1[hrf]['vol'][model])"
   ]
  },
  {
   "cell_type": "markdown",
   "metadata": {},
   "source": [
    "## Inspect the localization of negative model benefits"
   ]
  },
  {
   "cell_type": "code",
   "execution_count": 20,
   "metadata": {},
   "outputs": [
    {
     "ename": "ValueError",
     "evalue": "The truth value of an array with more than one element is ambiguous. Use a.any() or a.all()",
     "output_type": "error",
     "traceback": [
      "\u001b[0;31m---------------------------------------------------------------------------\u001b[0m",
      "\u001b[0;31mValueError\u001b[0m                                Traceback (most recent call last)",
      "\u001b[0;32m<ipython-input-20-a46aa40644a3>\u001b[0m in \u001b[0;36m<module>\u001b[0;34m\u001b[0m\n\u001b[1;32m      7\u001b[0m \u001b[0;34m\u001b[0m\u001b[0m\n\u001b[1;32m      8\u001b[0m \u001b[0mR2_dUP\u001b[0m \u001b[0;34m=\u001b[0m \u001b[0mR2_ULIN\u001b[0m \u001b[0;34m-\u001b[0m \u001b[0mR2_PLIN\u001b[0m\u001b[0;34m\u001b[0m\u001b[0;34m\u001b[0m\u001b[0m\n\u001b[0;32m----> 9\u001b[0;31m \u001b[0mR2_dUP\u001b[0m\u001b[0;34m[\u001b[0m \u001b[0mR2_ULIN\u001b[0m \u001b[0;34m<\u001b[0m \u001b[0;36m5\u001b[0m \u001b[0;32mand\u001b[0m \u001b[0mR2_PLIN\u001b[0m \u001b[0;34m<\u001b[0m \u001b[0;36m5\u001b[0m \u001b[0;34m]\u001b[0m \u001b[0;34m=\u001b[0m \u001b[0;34m'nan'\u001b[0m\u001b[0;34m\u001b[0m\u001b[0;34m\u001b[0m\u001b[0m\n\u001b[0m\u001b[1;32m     10\u001b[0m \u001b[0mR2_dUP\u001b[0m\u001b[0;34m[\u001b[0m \u001b[0mR2_dUP\u001b[0m \u001b[0;34m<\u001b[0m \u001b[0;36m5\u001b[0m \u001b[0;34m]\u001b[0m \u001b[0;34m=\u001b[0m \u001b[0;34m'nan'\u001b[0m\u001b[0;34m\u001b[0m\u001b[0;34m\u001b[0m\u001b[0m\n\u001b[1;32m     11\u001b[0m \u001b[0;34m\u001b[0m\u001b[0m\n",
      "\u001b[0;31mValueError\u001b[0m: The truth value of an array with more than one element is ambiguous. Use a.any() or a.all()"
     ]
    }
   ],
   "source": [
    "subj = 'Danny'\n",
    "hrf = 'mHRF'\n",
    "DD = copy.deepcopy(SR[subj]) # copy the original data so it won't get overwritten\n",
    "R2_DoG = copy.deepcopy(SR[subj][hrf]['arr']['dog']['R2'])\n",
    "R2_PLIN = copy.deepcopy(SR[subj][hrf]['arr']['lin']['R2'])\n",
    "R2_ULIN = copy.deepcopy(SR[subj][hrf]['arr']['lin_ng']['R2'])\n",
    "\n",
    "R2_dUP = R2_ULIN - R2_PLIN\n",
    "R2_dUP[ R2_ULIN < 5 and R2_PLIN < 5 ] = 'nan'\n",
    "R2_dUP[ R2_dUP < 5 ] = 'nan'\n",
    "\n",
    "DataNow = cortex.Volume(R2_dUP.transpose(2,1,0), subj, 'xfm')\n",
    "cortex.webgl.show(data=DataNow)"
   ]
  },
  {
   "cell_type": "code",
   "execution_count": null,
   "metadata": {},
   "outputs": [],
   "source": [
    "        for m in DD[hrf]['arr']:\n",
    "            # mask all available outputs except for R2\n",
    "            for res in DD[hrf]['arr'][m]:\n",
    "                if res is not 'R2':\n",
    "                    with np.errstate(invalid='ignore'):\n",
    "                        DD[hrf]['arr'][m][res][ DD[hrf]['arr'][m]['R2'] < RTH ] = 'nan'\n",
    "                    # also convert to the pycortex volume\n",
    "                    DD[hrf]['vol'][m][res] = cortex.Volume(DD[hrf]['arr'][m][res].transpose(2,1,0), DD['subject'], DD['xfm'])\n",
    "            # mask R2            \n",
    "            with np.errstate(invalid='ignore'):\n",
    "                DD[hrf]['arr'][m]['R2'][ DD[hrf]['arr'][m]['R2'] < RTH ] = 'nan' \n",
    "            DD[hrf]['vol'][m]['R2m'] = cortex.Volume(DD[hrf]['arr'][m]['R2'].transpose(2,1,0), DD['subject'], DD['xfm'])"
   ]
  },
  {
   "cell_type": "code",
   "execution_count": null,
   "metadata": {},
   "outputs": [],
   "source": []
  },
  {
   "cell_type": "code",
   "execution_count": null,
   "metadata": {},
   "outputs": [],
   "source": []
  },
  {
   "cell_type": "code",
   "execution_count": null,
   "metadata": {},
   "outputs": [],
   "source": []
  }
 ],
 "metadata": {
  "kernelspec": {
   "display_name": "Python 3",
   "language": "python",
   "name": "python3"
  },
  "language_info": {
   "codemirror_mode": {
    "name": "ipython",
    "version": 3
   },
   "file_extension": ".py",
   "mimetype": "text/x-python",
   "name": "python",
   "nbconvert_exporter": "python",
   "pygments_lexer": "ipython3",
   "version": "3.7.6"
  }
 },
 "nbformat": 4,
 "nbformat_minor": 4
}
