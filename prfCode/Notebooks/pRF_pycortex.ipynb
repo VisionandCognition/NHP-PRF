{
 "cells": [
  {
   "cell_type": "markdown",
   "metadata": {},
   "source": [
    "# Project pRF analysis results to pycortex surfaces\n",
    "Make sure you have created the pycortex"
   ]
  },
  {
   "cell_type": "code",
   "execution_count": 1,
   "metadata": {},
   "outputs": [],
   "source": [
    "import cortex\n",
    "import numpy as np\n",
    "import pandas as pd\n",
    "import os, shutil"
   ]
  },
  {
   "cell_type": "code",
   "execution_count": 2,
   "metadata": {},
   "outputs": [],
   "source": [
    "subj = 'Danny' # 'Danny'/'Eddy'\n",
    "FitRes = os.path.join('/Users','chris','Documents','MRI_ANALYSIS','NHP-PRF','FitResults')\n"
   ]
  },
  {
   "cell_type": "code",
   "execution_count": null,
   "metadata": {},
   "outputs": [],
   "source": [
    "Models_dhrf = ['linhrf_cv1_dhrf','linhrf_cv1_dhrf_neggain','csshrf_cv1_dhrf','doghrf_cv1_dhrf']\n",
    "Models_mhrf = ['linhrf_cv1_mhrf','linhrf_cv1_mhrf_neggain','csshrf_cv1_mhrf','doghrf_cv1_mhrf']\n",
    "\n",
    "Res_type = ['ANG', 'ECC', 'EXPT', 'FWHM', 'GAIN', 'IMAG', 'REAL', 'RFS', 'X', 'Y', 'NAMP', 'SDRATIO']\n",
    "\n",
    "Models = []"
   ]
  },
  {
   "cell_type": "code",
   "execution_count": null,
   "metadata": {},
   "outputs": [],
   "source": [
    "for M in Models_dhrf:\n",
    "        Res_dhrf = {\n",
    "            'R2' :  \n",
    "        }"
   ]
  },
  {
   "cell_type": "code",
   "execution_count": null,
   "metadata": {},
   "outputs": [],
   "source": [
    "ANG_th0.nii.gz\n",
    "ECC_th0.nii.gz\n",
    "EXPT_th0.nii.gz\n",
    "EXPTSQ_th0.nii.gz\n",
    "FWHM_th0.nii.gz\n",
    "GAIN_th0.nii.gz\n",
    "IMAG_th0.nii.gz\n",
    "REAL_th0.nii.gz\n",
    "RFS_th0.nii.gz\n",
    "X_th0.nii.gz\n",
    "Y_th0.nii.gz"
   ]
  },
  {
   "cell_type": "code",
   "execution_count": null,
   "metadata": {},
   "outputs": [],
   "source": [
    "Res_dhrf = {\n",
    "\t'First Dataset': volume1,\n",
    "\t'Second Dataset': volume2,\n",
    "\t'Third Dataset': volume3,\n",
    "}\n"
   ]
  },
  {
   "cell_type": "markdown",
   "metadata": {},
   "source": [
    "## Load data into pycortex"
   ]
  },
  {
   "cell_type": "code",
   "execution_count": null,
   "metadata": {},
   "outputs": [],
   "source": [
    "test_data = os.path.join(FitRes,'MRI',subj.lower,)"
   ]
  },
  {
   "cell_type": "code",
   "execution_count": null,
   "metadata": {},
   "outputs": [],
   "source": [
    "# test_data = <'path/to/testdata.nii.gz>'\n",
    "# data = cortex.Volume(test_data, subj, xfm)\n",
    "data = cortex.Volume(test_data, subj, 'epi2surf')\n"
   ]
  },
  {
   "cell_type": "code",
   "execution_count": null,
   "metadata": {},
   "outputs": [],
   "source": [
    "cortex.webshow(data)"
   ]
  }
 ],
 "metadata": {
  "kernelspec": {
   "display_name": "Python 3",
   "language": "python",
   "name": "python3"
  },
  "language_info": {
   "codemirror_mode": {
    "name": "ipython",
    "version": 3
   },
   "file_extension": ".py",
   "mimetype": "text/x-python",
   "name": "python",
   "nbconvert_exporter": "python",
   "pygments_lexer": "ipython3",
   "version": "3.7.4"
  }
 },
 "nbformat": 4,
 "nbformat_minor": 4
}
