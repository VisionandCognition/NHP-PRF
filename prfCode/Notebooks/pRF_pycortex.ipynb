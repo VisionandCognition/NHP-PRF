{
 "cells": [
  {
   "cell_type": "markdown",
   "metadata": {},
   "source": [
    "# Project pRF analysis results to pycortex surfaces\n",
    "Make sure you have created the pycortex entries for these individuals (https://github.com/VisionandCognition/NHP-pycortex)     \n",
    "Strategy:    \n",
    "- Load all (unthresholded) results into sorted numpy arrays with nibabel\n",
    "- Also create pycortex volume objects\n",
    "- Save them in an ordered dictionary\n",
    "- Define some functions for masking\n",
    "- Perform any additional post-processing"
   ]
  },
  {
   "cell_type": "markdown",
   "metadata": {},
   "source": [
    "### Import the required modules"
   ]
  },
  {
   "cell_type": "code",
   "execution_count": 1,
   "metadata": {},
   "outputs": [],
   "source": [
    "import cortex\n",
    "import nibabel as nib \n",
    "import numpy as np\n",
    "import pandas as pd\n",
    "import os, shutil, copy\n",
    "\n",
    "from matplotlib import pyplot as plt"
   ]
  },
  {
   "cell_type": "markdown",
   "metadata": {},
   "source": [
    "### Set subject name and path to FitResults"
   ]
  },
  {
   "cell_type": "code",
   "execution_count": 2,
   "metadata": {},
   "outputs": [],
   "source": [
    "subj = 'Danny' # 'Danny'/'Eddy'\n",
    "FitResPath = os.path.join('/Users','chris','Documents','MRI_ANALYSIS','NHP-PRF','FitResults')\n",
    "ManualMaskPath = os.path.join('/Users','chris','Dropbox','GIT_Support','NHP-BIDS','manual-masks')"
   ]
  },
  {
   "cell_type": "markdown",
   "metadata": {},
   "source": [
    "### Specify which models and results to include\n",
    "Making changes here may or may not break subsequent as it relies on some of these things being present (e.g., R2, R2_1, and R2_2)"
   ]
  },
  {
   "cell_type": "code",
   "execution_count": 3,
   "metadata": {},
   "outputs": [],
   "source": [
    "Models = {\n",
    "    'dhrf' : ['linhrf_cv1_dhrf','linhrf_cv1_dhrf_neggain','csshrf_cv1_dhrf','doghrf_cv1_dhrf'],\n",
    "    'mhrf' : ['linhrf_cv1_mhrf','linhrf_cv1_mhrf_neggain','csshrf_cv1_mhrf','doghrf_cv1_mhrf'],\n",
    "    'names' : ['lin','lin_ng','css','dog'],\n",
    "}\n",
    "Res_type = ['ANG', 'ECC', 'EXPT', 'FWHM', 'GAIN', 'IMAG', 'REAL', 'RFS', 'X', 'Y', 'NAMP', 'SDRATIO']\n",
    "xfm = 'epi2surf'"
   ]
  },
  {
   "cell_type": "markdown",
   "metadata": {},
   "source": [
    "### Create a volume to vertex mapper for this subject"
   ]
  },
  {
   "cell_type": "code",
   "execution_count": 4,
   "metadata": {},
   "outputs": [],
   "source": [
    "Vol2Vertex_mapper = cortex.get_mapper(subj, xfm, 'line_nearest', recache=True)"
   ]
  },
  {
   "cell_type": "markdown",
   "metadata": {},
   "source": [
    "### Create a dictionary to collect all FitResults in"
   ]
  },
  {
   "cell_type": "code",
   "execution_count": 5,
   "metadata": {},
   "outputs": [],
   "source": [
    "# this will be the structure of data collection\n",
    "FR = {\n",
    "    'subject' : subj,\n",
    "    'xfm' : xfm,\n",
    "    'mHRF' : {\n",
    "        'arr' : {},\n",
    "        'vol' : {},\n",
    "    },\n",
    "    'dHRF' : {\n",
    "        'arr' : {},\n",
    "        'vol' : {},\n",
    "    },\n",
    "}"
   ]
  },
  {
   "cell_type": "markdown",
   "metadata": {},
   "source": [
    "### Populate the dictionary with the data"
   ]
  },
  {
   "cell_type": "code",
   "execution_count": 6,
   "metadata": {},
   "outputs": [
    {
     "name": "stdout",
     "output_type": "stream",
     "text": [
      "Processing mHRF: lin lin_ng css dog\n",
      "Processing dHRF: lin lin_ng css dog\n"
     ]
    }
   ],
   "source": [
    "# Get the data\n",
    "for h in ['m','d']:\n",
    "    print('Processing ' + h + 'HRF:', end='')\n",
    "    for M in Models[h + 'hrf']:\n",
    "        # get model idx so we create a shorter variable name\n",
    "        midx = Models[h + 'hrf'].index(M)\n",
    "        print(' ' + Models['names'][midx], end='')\n",
    "        \n",
    "        # get the mean R2 map\n",
    "        volpath = os.path.join(FitResPath,'MRI',subj.lower(),M,'Sess-' + M + '_meanR2.nii.gz')\n",
    "        volpath1 = os.path.join(FitResPath,'MRI',subj.lower(),M,'Sess-' + M + '_R2_1.nii.gz')\n",
    "        volpath2 = os.path.join(FitResPath,'MRI',subj.lower(),M,'Sess-' + M + '_R2_2.nii.gz')\n",
    "\n",
    "        # load the results into numpy arrays with nibabel\n",
    "        R2 = np.array(nib.load(volpath).dataobj)\n",
    "        R2_1 = np.array(nib.load(volpath1).dataobj)\n",
    "        R2_2 = np.array(nib.load(volpath2).dataobj)\n",
    "\n",
    "        # convert to pycortex volumes\n",
    "        R2v = cortex.Volume(R2.transpose(2,1,0), subj, xfm)\n",
    "        R2_1v = cortex.Volume(R2_1.transpose(2,1,0), subj, xfm)\n",
    "        R2_2v = cortex.Volume(R2_2.transpose(2,1,0), subj, xfm)\n",
    "\n",
    "        # add info to dictionaries\n",
    "        # numpy arrays\n",
    "        FitRes = {\n",
    "            'R2' : R2,\n",
    "            'R2_1' : R2_1,\n",
    "            'R2_2' : R2_2\n",
    "            }\n",
    "        # pycortex volumes\n",
    "        FitRes_vol = {\n",
    "            'R2' : R2v,\n",
    "            'R2_1' : R2_1v,\n",
    "            'R2_2' : R2_2v\n",
    "            }\n",
    "\n",
    "        # also get othere results\n",
    "        for R in Res_type:\n",
    "            volpath = os.path.join(FitResPath,'MRI',subj.lower(),M,'TH_0', R + '_th0.nii.gz')\n",
    "            if os.path.exists(volpath):\n",
    "                FitRes[R] = np.array(nib.load(volpath).dataobj)\n",
    "                FitRes_vol[R] = cortex.Volume(FitRes[R].transpose(2,1,0), subj, xfm)\n",
    "\n",
    "        # bring it all together\n",
    "        FR[h + 'HRF']['arr'][Models['names'][midx]] = FitRes\n",
    "        FR[h + 'HRF']['vol'][Models['names'][midx]] = FitRes_vol\n",
    "    print('')"
   ]
  },
  {
   "cell_type": "code",
   "execution_count": 11,
   "metadata": {},
   "outputs": [
    {
     "name": "stdout",
     "output_type": "stream",
     "text": [
      "Started server on port 61427\n",
      "Started server on port 51831\n",
      "Stopping server\n",
      "Stopping server\n",
      "Stopping server\n"
     ]
    }
   ],
   "source": [
    "if True:\n",
    "    # Check in webviewer \n",
    "    cortex.webgl.show(data=FR['mHRF']['vol']['lin'])\n",
    "    cortex.webgl.show(data=FR['mHRF']['vol']['lin_ng'])"
   ]
  },
  {
   "cell_type": "code",
   "execution_count": 10,
   "metadata": {},
   "outputs": [
    {
     "name": "stdout",
     "output_type": "stream",
     "text": [
      "Started server on port 39003\n"
     ]
    },
    {
     "data": {
      "text/plain": [
       "<JS: window.viewer>"
      ]
     },
     "execution_count": 10,
     "metadata": {},
     "output_type": "execute_result"
    }
   ],
   "source": [
    "R2_diffarray = FR['mHRF']['arr']['lin']['R2'] - FR['mHRF']['arr']['lin_ng']['R2']\n",
    "FR['mHRF']['vol']['lin_ng']['R2_DIFF'] = cortex.Volume(R2_diffarray.transpose(2,1,0), subj, xfm)\n",
    "cortex.webgl.show(data=FR['mHRF']['vol']['lin_ng'])"
   ]
  },
  {
   "cell_type": "markdown",
   "metadata": {},
   "source": [
    "### Do some checks to see if this worked as expected\n",
    "Once we know it worked we can switch this off again"
   ]
  },
  {
   "cell_type": "code",
   "execution_count": 8,
   "metadata": {},
   "outputs": [],
   "source": [
    "if False:\n",
    "    # Inspect the result volumes (should be numpy arrays)\n",
    "    RR = copy.copy(FR['mHRF']['arr']['lin']['R2']) # copy the R2 values for some model\n",
    "    RR[RR < 5] ='nan' # threshold it to some level\n",
    "    \n",
    "    cortex.webgl.show(data=cortex.Volume(RR.transpose(2,1,0), subj, xfm)) # check to seeit worked"
   ]
  },
  {
   "cell_type": "markdown",
   "metadata": {},
   "source": [
    "### Define a function to mask the results based on R2 values\n",
    "This function makes a deepcopy of the input dictionary to prevend overwriting it with masked data. Than masks it with the provided R2-threshold"
   ]
  },
  {
   "cell_type": "code",
   "execution_count": 19,
   "metadata": {},
   "outputs": [],
   "source": [
    "def r2mask(DataDict,RTH):\n",
    "    DD = copy.deepcopy(DataDict) # copy the original data so it won't get overwritten\n",
    "    # mask the numpy arrays by inserting nan's\n",
    "    for hrf in ['mHRF','dHRF']:\n",
    "        for m in DD[hrf]['arr']:\n",
    "            # mask all available outputs except for R2\n",
    "            for res in DD[hrf]['arr'][m]:\n",
    "                if res is not 'R2':\n",
    "                    with np.errstate(invalid='ignore'):\n",
    "                        DD[hrf]['arr'][m][res][ DD[hrf]['arr'][m]['R2'] < RTH ] = 'nan'\n",
    "                    # also convert to the pycortex volume\n",
    "                    DD[hrf]['vol'][m][res] = cortex.Volume(DD[hrf]['arr'][m][res].transpose(2,1,0), DD['subject'], DD['xfm'])\n",
    "            # mask R2            \n",
    "            with np.errstate(invalid='ignore'):\n",
    "                DD[hrf]['arr'][m]['R2'][ DD[hrf]['arr'][m]['R2'] < RTH ] = 'nan' \n",
    "            DD[hrf]['vol'][m]['R2'] = cortex.Volume(DD[hrf]['arr'][m]['R2'].transpose(2,1,0), DD['subject'], DD['xfm'])\n",
    "\n",
    "    return DD"
   ]
  },
  {
   "cell_type": "markdown",
   "metadata": {},
   "source": [
    "Check whether the masking function works"
   ]
  },
  {
   "cell_type": "code",
   "execution_count": 10,
   "metadata": {},
   "outputs": [],
   "source": [
    "if False:\n",
    "    mFR = r2mask(FR,2)\n",
    "    cortex.webgl.show(data=mFR['mHRF']['vol']['lin'])"
   ]
  },
  {
   "cell_type": "markdown",
   "metadata": {},
   "source": [
    "### Get D99 atlas information "
   ]
  },
  {
   "cell_type": "code",
   "execution_count": 11,
   "metadata": {},
   "outputs": [],
   "source": [
    "# read atlas labels\n",
    "D99_inFunc = {}\n",
    "D99_inFunc['path'] = os.path.join(ManualMaskPath,'sub-' + subj.lower(),'atlas','D99_in_' + subj + '_adj_inFunc.nii')\n",
    "D99_inFunc['arr'] = np.array(nib.load(D99_inFunc['path']).dataobj)\n",
    "D99_inFunc['vol'] = cortex.Volume(D99_inFunc['arr'].transpose(2,1,0), subj, xfm)\n",
    "D99_inFunc['labelpath'] = os.path.join(ManualMaskPath,'sub-' + subj.lower(),'atlas','D99_labeltable_reformat.txt')\n",
    "\n",
    "D99_inFunc['labels'] = {}\n",
    "with open(D99_inFunc['labelpath']) as f:\n",
    "    for line in f:\n",
    "        labelnum, label = line.strip().split(' ',1)\n",
    "        D99_inFunc['labels'][label.strip()] = int(labelnum)\n",
    "#print(D99_inFunc['labels'])"
   ]
  },
  {
   "cell_type": "code",
   "execution_count": 13,
   "metadata": {},
   "outputs": [],
   "source": [
    "if False:\n",
    "    cortex.webgl.show(data=D99_inFunc['vol'])"
   ]
  },
  {
   "cell_type": "markdown",
   "metadata": {},
   "source": [
    "### Define a function that returns ROI names from voxel label number"
   ]
  },
  {
   "cell_type": "code",
   "execution_count": 14,
   "metadata": {},
   "outputs": [],
   "source": [
    "def get_roiname(LabelDict,LabelNum):\n",
    "    for name, number in LabelDict.items():\n",
    "        if number == LabelNum:\n",
    "            return name"
   ]
  },
  {
   "cell_type": "code",
   "execution_count": 15,
   "metadata": {},
   "outputs": [],
   "source": [
    "# test if the get_roiname function works\n",
    "if False:\n",
    "    roi = get_roiname(D99_inFunc['labels'],34)\n",
    "    print(roi)"
   ]
  },
  {
   "cell_type": "markdown",
   "metadata": {},
   "source": [
    "### Define a function that returns data masked by ROI"
   ]
  },
  {
   "cell_type": "code",
   "execution_count": 18,
   "metadata": {},
   "outputs": [],
   "source": [
    "def roimask(DataDict,AtlasDict,rois):\n",
    "    # DataDict is the dictionary of results\n",
    "    # AtlasDict is a dictionary of D99 atlas info\n",
    "    # rois is a list of rois to include\n",
    "    \n",
    "    DD = copy.deepcopy(DataDict) # copy the original data so it won't get overwritten\n",
    "    AA = copy.deepcopy(AtlasDict) # copy the original data so it won't get overwritten\n",
    "    \n",
    "    # Create a mask that includes all rois in the list\n",
    "    mask = np.zeros(AA['arr'].shape)\n",
    "    for r in rois:\n",
    "        tmask = AA['arr']==AA['labels'][r]\n",
    "        mask = mask + tmask\n",
    "    mask[mask > 0]\n",
    "    \n",
    "    # mask the numpy arrays by inserting nan's\n",
    "    for hrf in ['mHRF','dHRF']:\n",
    "        for m in DD[hrf]['arr']:\n",
    "            # mask all available outputs except for R2\n",
    "            for res in DD[hrf]['arr'][m]:\n",
    "                with np.errstate(invalid='ignore'):\n",
    "                    DD[hrf]['arr'][m][res][ mask < 1 ] = 'nan'\n",
    "                # also convert to the pycortex volume\n",
    "                DD[hrf]['vol'][m][res] = cortex.Volume(DD[hrf]['arr'][m][res].transpose(2,1,0), DD['subject'], DD['xfm'])\n",
    "    return DD"
   ]
  },
  {
   "cell_type": "code",
   "execution_count": 17,
   "metadata": {},
   "outputs": [],
   "source": [
    "# test this function\n",
    "if False:\n",
    "    V1Res = roimask(FR,D99_inFunc,['V1'])\n",
    "    cortex.webgl.show(data=V1Res['mHRF']['vol']['lin'])"
   ]
  },
  {
   "cell_type": "code",
   "execution_count": 21,
   "metadata": {},
   "outputs": [
    {
     "name": "stdout",
     "output_type": "stream",
     "text": [
      "Started server on port 47986\n"
     ]
    }
   ],
   "source": [
    "# test masking by ROI and R2\n",
    "if True:\n",
    "    V1Res = roimask(FR,D99_inFunc,['V1'])\n",
    "    mV1Res = r2mask(V1Res,4)\n",
    "    cortex.webgl.show(data=mV1Res['mHRF']['vol']['lin'])"
   ]
  },
  {
   "cell_type": "markdown",
   "metadata": {},
   "source": [
    "### Define a function to interpolate (masked) surface results"
   ]
  },
  {
   "cell_type": "code",
   "execution_count": 24,
   "metadata": {},
   "outputs": [
    {
     "data": {
      "text/plain": [
       "(56, 90, 90)"
      ]
     },
     "execution_count": 24,
     "metadata": {},
     "output_type": "execute_result"
    }
   ],
   "source": [
    "# First just script it, we can create a function later\n",
    "\n",
    "# Get the volume you want to work with\n",
    "StartVol = mV1Res['mHRF']['vol']['lin']['R2']\n",
    "np.shape(StartVol)"
   ]
  },
  {
   "cell_type": "code",
   "execution_count": 30,
   "metadata": {
    "collapsed": true,
    "jupyter": {
     "outputs_hidden": true
    }
   },
   "outputs": [
    {
     "data": {
      "image/png": "[encoded data removed]",
      "text/plain": [
       "<Figure size 1455.12x737.28 with 2 Axes>"
      ]
     },
     "metadata": {
      "needs_background": "light"
     },
     "output_type": "display_data"
    }
   ],
   "source": [
    "# map volume results to vertex\n",
    "DataVertex = Vol2Vertex_mapper(StartVol)\n",
    "\n",
    "# let's see if this worked\n",
    "#cortex.quickshow(DataVertex,with_rois=0)\n",
    "#plt.show()\n",
    "\n",
    "# get vertex coordinates with data\n",
    "DataVertex"
   ]
  },
  {
   "cell_type": "code",
   "execution_count": 27,
   "metadata": {
    "collapsed": true,
    "jupyter": {
     "outputs_hidden": true
    }
   },
   "outputs": [
    {
     "data": {
      "text/plain": [
       "\u001b[0;31mSignature:\u001b[0m\n",
       "\u001b[0mcortex\u001b[0m\u001b[0;34m.\u001b[0m\u001b[0mquickshow\u001b[0m\u001b[0;34m(\u001b[0m\u001b[0;34m\u001b[0m\n",
       "\u001b[0;34m\u001b[0m    \u001b[0mbraindata\u001b[0m\u001b[0;34m,\u001b[0m\u001b[0;34m\u001b[0m\n",
       "\u001b[0;34m\u001b[0m    \u001b[0mrecache\u001b[0m\u001b[0;34m=\u001b[0m\u001b[0;32mFalse\u001b[0m\u001b[0;34m,\u001b[0m\u001b[0;34m\u001b[0m\n",
       "\u001b[0;34m\u001b[0m    \u001b[0mpixelwise\u001b[0m\u001b[0;34m=\u001b[0m\u001b[0;32mTrue\u001b[0m\u001b[0;34m,\u001b[0m\u001b[0;34m\u001b[0m\n",
       "\u001b[0;34m\u001b[0m    \u001b[0mthick\u001b[0m\u001b[0;34m=\u001b[0m\u001b[0;36m32\u001b[0m\u001b[0;34m,\u001b[0m\u001b[0;34m\u001b[0m\n",
       "\u001b[0;34m\u001b[0m    \u001b[0msampler\u001b[0m\u001b[0;34m=\u001b[0m\u001b[0;34m'nearest'\u001b[0m\u001b[0;34m,\u001b[0m\u001b[0;34m\u001b[0m\n",
       "\u001b[0;34m\u001b[0m    \u001b[0mheight\u001b[0m\u001b[0;34m=\u001b[0m\u001b[0;36m1024\u001b[0m\u001b[0;34m,\u001b[0m\u001b[0;34m\u001b[0m\n",
       "\u001b[0;34m\u001b[0m    \u001b[0mdpi\u001b[0m\u001b[0;34m=\u001b[0m\u001b[0;36m100\u001b[0m\u001b[0;34m,\u001b[0m\u001b[0;34m\u001b[0m\n",
       "\u001b[0;34m\u001b[0m    \u001b[0mdepth\u001b[0m\u001b[0;34m=\u001b[0m\u001b[0;36m0.5\u001b[0m\u001b[0;34m,\u001b[0m\u001b[0;34m\u001b[0m\n",
       "\u001b[0;34m\u001b[0m    \u001b[0mwith_rois\u001b[0m\u001b[0;34m=\u001b[0m\u001b[0;32mTrue\u001b[0m\u001b[0;34m,\u001b[0m\u001b[0;34m\u001b[0m\n",
       "\u001b[0;34m\u001b[0m    \u001b[0mwith_sulci\u001b[0m\u001b[0;34m=\u001b[0m\u001b[0;32mFalse\u001b[0m\u001b[0;34m,\u001b[0m\u001b[0;34m\u001b[0m\n",
       "\u001b[0;34m\u001b[0m    \u001b[0mwith_labels\u001b[0m\u001b[0;34m=\u001b[0m\u001b[0;32mTrue\u001b[0m\u001b[0;34m,\u001b[0m\u001b[0;34m\u001b[0m\n",
       "\u001b[0;34m\u001b[0m    \u001b[0mwith_colorbar\u001b[0m\u001b[0;34m=\u001b[0m\u001b[0;32mTrue\u001b[0m\u001b[0;34m,\u001b[0m\u001b[0;34m\u001b[0m\n",
       "\u001b[0;34m\u001b[0m    \u001b[0mwith_borders\u001b[0m\u001b[0;34m=\u001b[0m\u001b[0;32mFalse\u001b[0m\u001b[0;34m,\u001b[0m\u001b[0;34m\u001b[0m\n",
       "\u001b[0;34m\u001b[0m    \u001b[0mwith_dropout\u001b[0m\u001b[0;34m=\u001b[0m\u001b[0;32mFalse\u001b[0m\u001b[0;34m,\u001b[0m\u001b[0;34m\u001b[0m\n",
       "\u001b[0;34m\u001b[0m    \u001b[0mwith_curvature\u001b[0m\u001b[0;34m=\u001b[0m\u001b[0;32mFalse\u001b[0m\u001b[0;34m,\u001b[0m\u001b[0;34m\u001b[0m\n",
       "\u001b[0;34m\u001b[0m    \u001b[0mextra_disp\u001b[0m\u001b[0;34m=\u001b[0m\u001b[0;32mNone\u001b[0m\u001b[0;34m,\u001b[0m\u001b[0;34m\u001b[0m\n",
       "\u001b[0;34m\u001b[0m    \u001b[0mwith_connected_vertices\u001b[0m\u001b[0;34m=\u001b[0m\u001b[0;32mFalse\u001b[0m\u001b[0;34m,\u001b[0m\u001b[0;34m\u001b[0m\n",
       "\u001b[0;34m\u001b[0m    \u001b[0moverlay_file\u001b[0m\u001b[0;34m=\u001b[0m\u001b[0;32mNone\u001b[0m\u001b[0;34m,\u001b[0m\u001b[0;34m\u001b[0m\n",
       "\u001b[0;34m\u001b[0m    \u001b[0mlinewidth\u001b[0m\u001b[0;34m=\u001b[0m\u001b[0;32mNone\u001b[0m\u001b[0;34m,\u001b[0m\u001b[0;34m\u001b[0m\n",
       "\u001b[0;34m\u001b[0m    \u001b[0mlinecolor\u001b[0m\u001b[0;34m=\u001b[0m\u001b[0;32mNone\u001b[0m\u001b[0;34m,\u001b[0m\u001b[0;34m\u001b[0m\n",
       "\u001b[0;34m\u001b[0m    \u001b[0mroifill\u001b[0m\u001b[0;34m=\u001b[0m\u001b[0;32mNone\u001b[0m\u001b[0;34m,\u001b[0m\u001b[0;34m\u001b[0m\n",
       "\u001b[0;34m\u001b[0m    \u001b[0mshadow\u001b[0m\u001b[0;34m=\u001b[0m\u001b[0;32mNone\u001b[0m\u001b[0;34m,\u001b[0m\u001b[0;34m\u001b[0m\n",
       "\u001b[0;34m\u001b[0m    \u001b[0mlabelsize\u001b[0m\u001b[0;34m=\u001b[0m\u001b[0;32mNone\u001b[0m\u001b[0;34m,\u001b[0m\u001b[0;34m\u001b[0m\n",
       "\u001b[0;34m\u001b[0m    \u001b[0mlabelcolor\u001b[0m\u001b[0;34m=\u001b[0m\u001b[0;32mNone\u001b[0m\u001b[0;34m,\u001b[0m\u001b[0;34m\u001b[0m\n",
       "\u001b[0;34m\u001b[0m    \u001b[0mcutout\u001b[0m\u001b[0;34m=\u001b[0m\u001b[0;32mNone\u001b[0m\u001b[0;34m,\u001b[0m\u001b[0;34m\u001b[0m\n",
       "\u001b[0;34m\u001b[0m    \u001b[0mcurvature_brightness\u001b[0m\u001b[0;34m=\u001b[0m\u001b[0;32mNone\u001b[0m\u001b[0;34m,\u001b[0m\u001b[0;34m\u001b[0m\n",
       "\u001b[0;34m\u001b[0m    \u001b[0mcurvature_contrast\u001b[0m\u001b[0;34m=\u001b[0m\u001b[0;32mNone\u001b[0m\u001b[0;34m,\u001b[0m\u001b[0;34m\u001b[0m\n",
       "\u001b[0;34m\u001b[0m    \u001b[0mcurvature_threshold\u001b[0m\u001b[0;34m=\u001b[0m\u001b[0;32mNone\u001b[0m\u001b[0;34m,\u001b[0m\u001b[0;34m\u001b[0m\n",
       "\u001b[0;34m\u001b[0m    \u001b[0mfig\u001b[0m\u001b[0;34m=\u001b[0m\u001b[0;32mNone\u001b[0m\u001b[0;34m,\u001b[0m\u001b[0;34m\u001b[0m\n",
       "\u001b[0;34m\u001b[0m    \u001b[0mextra_hatch\u001b[0m\u001b[0;34m=\u001b[0m\u001b[0;32mNone\u001b[0m\u001b[0;34m,\u001b[0m\u001b[0;34m\u001b[0m\n",
       "\u001b[0;34m\u001b[0m    \u001b[0mcolorbar_ticks\u001b[0m\u001b[0;34m=\u001b[0m\u001b[0;32mNone\u001b[0m\u001b[0;34m,\u001b[0m\u001b[0;34m\u001b[0m\n",
       "\u001b[0;34m\u001b[0m    \u001b[0mcolorbar_location\u001b[0m\u001b[0;34m=\u001b[0m\u001b[0;34m(\u001b[0m\u001b[0;36m0.4\u001b[0m\u001b[0;34m,\u001b[0m \u001b[0;36m0.07\u001b[0m\u001b[0;34m,\u001b[0m \u001b[0;36m0.2\u001b[0m\u001b[0;34m,\u001b[0m \u001b[0;36m0.04\u001b[0m\u001b[0;34m)\u001b[0m\u001b[0;34m,\u001b[0m\u001b[0;34m\u001b[0m\n",
       "\u001b[0;34m\u001b[0m    \u001b[0mroi_list\u001b[0m\u001b[0;34m=\u001b[0m\u001b[0;32mNone\u001b[0m\u001b[0;34m,\u001b[0m\u001b[0;34m\u001b[0m\n",
       "\u001b[0;34m\u001b[0m    \u001b[0mnanmean\u001b[0m\u001b[0;34m=\u001b[0m\u001b[0;32mFalse\u001b[0m\u001b[0;34m,\u001b[0m\u001b[0;34m\u001b[0m\n",
       "\u001b[0;34m\u001b[0m    \u001b[0;34m**\u001b[0m\u001b[0mkwargs\u001b[0m\u001b[0;34m,\u001b[0m\u001b[0;34m\u001b[0m\n",
       "\u001b[0;34m\u001b[0m\u001b[0;34m)\u001b[0m\u001b[0;34m\u001b[0m\u001b[0;34m\u001b[0m\u001b[0m\n",
       "\u001b[0;31mDocstring:\u001b[0m\n",
       "Show a Volume or Vertex on a flatmap with matplotlib.\n",
       "\n",
       "Note that **kwargs are ONLY present now for backward compatibility / warnings. No kwargs\n",
       "should be used.\n",
       "\n",
       "Parameters\n",
       "----------\n",
       "braindata : Dataview (e.g. instance of cortex.Volume, cortex.Vertex,...)\n",
       "    the data you would like to plot on a flatmap\n",
       "recache : boolean\n",
       "    Whether or not to recache intermediate files. Takes longer to plot this way, potentially\n",
       "    resolves some errors. Useful if you've made changes to the alignment\n",
       "pixelwise : bool\n",
       "    Use pixel-wise mapping\n",
       "thick : int\n",
       "    Number of layers through the cortical sheet to sample. Only applies for pixelwise = True\n",
       "sampler : str\n",
       "    Name of sampling function used to sample underlying volume data. Options include\n",
       "    'trilinear', 'nearest', 'lanczos'; see functions in cortex.mapper.samplers.py for all options\n",
       "height : int\n",
       "    Height of the image to render. Automatically scales the width for the aspect\n",
       "    of the subject's flatmap\n",
       "depth : float\n",
       "    Value between 0 and 1 for how deep to sample the surface for the flatmap (0 = gray/white matter\n",
       "    boundary, 1 = pial surface)\n",
       "with_rois, with_labels, with_colorbar, with_borders, with_dropout, with_curvature, etc : bool, optional\n",
       "    Display the rois, labels, colorbar, annotated flatmap borders, etc\n",
       "cutout : str\n",
       "    Name of flatmap cutout with which to clip the full flatmap. Should be the name\n",
       "    of a sub-layer of the 'cutouts' layer in <filestore>/<subject>/overlays.svg\n",
       "\n",
       "Other Parameters\n",
       "----------------\n",
       "dpi : int\n",
       "    DPI of the generated image. Only applies to the scaling of matplotlib elements,\n",
       "    specifically the colormap\n",
       "linewidth : int, optional\n",
       "    Width of ROI lines. Defaults to roi options in your local `options.cfg`\n",
       "linecolor : tuple of float, optional\n",
       "    (R, G, B, A) specification of line color\n",
       "roifill : tuple of float, optional\n",
       "    (R, G, B, A) sepcification for the fill of each ROI region\n",
       "shadow : int, optional\n",
       "    Standard deviation of the gaussian shadow. Set to 0 if you want no shadow\n",
       "labelsize : str, optional\n",
       "    Font size for the label, e.g. \"16pt\"\n",
       "labelcolor : tuple of float, optional\n",
       "    (R, G, B, A) specification for the label color\n",
       "curvature_brightness : float, optional\n",
       "    Mean* brightness of background. 0 = black, 1 = white, intermediate values are corresponding\n",
       "    grayscale values. If None, Defaults to config file value. (*this does not precisely specify\n",
       "    the mean; the actual mean luminance of the curvature depends on the value for\n",
       "    `curvature_contrast`. It's easiest to think about it as the mean brightness, though.)\n",
       "curvature_contrast : float, optional\n",
       "    Contrast of curvature. 1 = maximal contrast (black/white), 0 = no contrast (solid color for\n",
       "    curvature equal to `curvature_brightness`).\n",
       "cvmax : float, optional [DEPRECATED! use `curvature_brightness` and `curvature_contrast` instead]\n",
       "    Maximum value for background curvature colormap. Defaults to config file value.\n",
       "cvthr : bool, optional [DEPRECATED! use `curvature_threshold` instead]\n",
       "    Apply threshold to background curvature\n",
       "extra_disp : tuple, optional\n",
       "    Optional extra display layer from external .svg file. Tuple specifies (filename, layer)\n",
       "    filename should be a full path. External svg file should be structured exactly as\n",
       "    overlays.svg for the subject. (Best to just copy overlays.svg somewhere else and add\n",
       "    layers to it.) Default value is None.\n",
       "extra_hatch : tuple, optional\n",
       "    Optional extra crosshatch-textured layer, given as (DataView, [r, g, b]) tuple.\n",
       "colorbar_location : tuple, optional\n",
       "    Location of the colorbar. The dimensions are\n",
       "    [left, bottom, width, height]. All quantities are in fractions of\n",
       "    figure width and height.\n",
       "colorbar_ticks : array-like, optional\n",
       "    For 1D colormaps indicates the ticks of the colorbar. If None,\n",
       "    it defaults to equally spaced values between vmin and vmax.\n",
       "    This parameter is not used for 2D colormaps, and it defaults to the\n",
       "    vmin, vmax specified in the Volume2D object.\n",
       "fig : figure or ax\n",
       "    figure into which to plot flatmap\n",
       "nanmean : bool, optional (default = False)\n",
       "    If True, NaNs in the data will be ignored when averaging across layers.\n",
       "\u001b[0;31mFile:\u001b[0m      /media/DOCS/Documents/MRI_ANALYSIS/NHP-pycortex/cortex/quickflat/view.py\n",
       "\u001b[0;31mType:\u001b[0m      function\n"
      ]
     },
     "metadata": {},
     "output_type": "display_data"
    }
   ],
   "source": [
    "cortex.quickshow?"
   ]
  },
  {
   "cell_type": "code",
   "execution_count": null,
   "metadata": {},
   "outputs": [],
   "source": [
    "DataVertex."
   ]
  },
  {
   "cell_type": "code",
   "execution_count": null,
   "metadata": {},
   "outputs": [],
   "source": []
  },
  {
   "cell_type": "code",
   "execution_count": null,
   "metadata": {},
   "outputs": [],
   "source": []
  },
  {
   "cell_type": "code",
   "execution_count": null,
   "metadata": {},
   "outputs": [],
   "source": []
  },
  {
   "cell_type": "code",
   "execution_count": null,
   "metadata": {},
   "outputs": [],
   "source": []
  },
  {
   "cell_type": "code",
   "execution_count": null,
   "metadata": {},
   "outputs": [],
   "source": []
  },
  {
   "cell_type": "code",
   "execution_count": null,
   "metadata": {},
   "outputs": [],
   "source": [
    "def interpsurf(xxx,subject)\n",
    "    # import the pycortex surface tools\n",
    "    from cortex.polyutils import Surface as surf\n",
    "    \n",
    "    \n",
    "    \n",
    "    np.random.seed(1234) \n",
    "    subject = \"S1\"\n",
    "\n",
    "# First we need to import the surfaces for this subject\n",
    "lsurf, rsurf = [Surface(*d) for d in cortex.db.get_surf(subject, \"fiducial\")]\n",
    "\n",
    "# Let's choose a few points and generate data for them\n",
    "selected_pts = np.arange(len(lsurf.pts), step=5000)\n",
    "num_selected_pts = len(selected_pts)\n",
    "sparse_data = np.random.randn(num_selected_pts)\n",
    "\n",
    "# Then interpolate\n",
    "interp_data = lsurf.interp(selected_pts, sparse_data)\n",
    "\n",
    "# Plot the result\n",
    "# interp_data is only for the left hemisphere, but the Vertex constructor\n",
    "# infers that and fills the right hemisphere with zeros\n",
    "interp_vertex = cortex.Vertex(interp_data[:,0], subject, \n",
    "                              vmin=-2, vmax=2, cmap='RdBu_r')\n",
    "cortex.quickshow(interp_vertex, with_labels=False, with_rois=False)\n",
    "\n",
    "\n",
    "# plot the locations of the points we selected originally\n",
    "\n",
    "# nudge=True puts both left and right hemispheres in the same space, moving them\n",
    "# so that they don't overlap. These are the coordinates used in quickflat\n",
    "(lflatpts, lpolys), (rflatpts, rpolys) = cortex.db.get_surf(subject, \"flat\", \n",
    "                                                            nudge=True)\n",
    "\n",
    "ax = plt.gca()\n",
    "# zorder is set to 10 to make sure points go on top of other quickflat layers\n",
    "ax.scatter(lflatpts[selected_pts,0], lflatpts[selected_pts,1], s=50, \n",
    "           c=sparse_data, vmin=-2, vmax=2, cmap=plt.cm.RdBu_r, zorder=10)\n",
    "\n",
    "\n",
    "# the interpolate function can also handle multiple dimensions at the same time\n",
    "# (this takes a while to run for no plotting, and thus is commented out)\n",
    "#sparse_data_2d = np.random.randn(10, num_selected_pts)\n",
    "#interp_data_2d = lsurf.interp(selected_pts, sparse_data_2d)\n",
    "\n",
    "# > interp_data_2d.shape\n",
    "# (152893, 10)\n",
    "plt.show()\n",
    "\n",
    "\n",
    "\n"
   ]
  },
  {
   "cell_type": "code",
   "execution_count": null,
   "metadata": {},
   "outputs": [],
   "source": []
  }
 ],
 "metadata": {
  "kernelspec": {
   "display_name": "Python 3",
   "language": "python",
   "name": "python3"
  },
  "language_info": {
   "codemirror_mode": {
    "name": "ipython",
    "version": 3
   },
   "file_extension": ".py",
   "mimetype": "text/x-python",
   "name": "python",
   "nbconvert_exporter": "python",
   "pygments_lexer": "ipython3",
   "version": "3.7.6"
  }
 },
 "nbformat": 4,
 "nbformat_minor": 4
}
