{
 "cells": [
  {
   "cell_type": "markdown",
   "metadata": {},
   "source": [
    "# Project pRF analysis results to pycortex surfaces\n",
    "Make sure you have created the pycortex entries for these individuals (https://github.com/VisionandCognition/NHP-pycortex)     \n",
    "Strategy:    \n",
    "- Load all (unthresholded) results into sorted numpy arrays with nibabel\n",
    "- Also create pycortex volume objects\n",
    "- Save them in an oredered dictionary"
   ]
  },
  {
   "cell_type": "code",
   "execution_count": 73,
   "metadata": {},
   "outputs": [],
   "source": [
    "import cortex\n",
    "import nibabel as nib \n",
    "import numpy as np\n",
    "import pandas as pd\n",
    "import os, shutil, copy"
   ]
  },
  {
   "cell_type": "code",
   "execution_count": 37,
   "metadata": {},
   "outputs": [],
   "source": [
    "subj = 'Danny' # 'Danny'/'Eddy'\n",
    "FitResPath = os.path.join('/Users','chris','Documents','MRI_ANALYSIS','NHP-PRF','FitResults')"
   ]
  },
  {
   "cell_type": "code",
   "execution_count": 38,
   "metadata": {},
   "outputs": [],
   "source": [
    "Models = {\n",
    "    'dhrf' : ['linhrf_cv1_dhrf','linhrf_cv1_dhrf_neggain','csshrf_cv1_dhrf','doghrf_cv1_dhrf'],\n",
    "    'mhrf' : ['linhrf_cv1_mhrf','linhrf_cv1_mhrf_neggain','csshrf_cv1_mhrf','doghrf_cv1_mhrf'],\n",
    "    'names' : ['lin','lin_ng','css','dog'],\n",
    "}\n",
    "Res_type = ['ANG', 'ECC', 'EXPT', 'FWHM', 'GAIN', 'IMAG', 'REAL', 'RFS', 'X', 'Y', 'NAMP', 'SDRATIO']\n",
    "xfm = 'epi2surf'"
   ]
  },
  {
   "cell_type": "markdown",
   "metadata": {},
   "source": [
    "Create a dictionary of fit results for mHRF fits (all models)"
   ]
  },
  {
   "cell_type": "code",
   "execution_count": 86,
   "metadata": {},
   "outputs": [],
   "source": [
    "# this will be the structure of data collection\n",
    "FR = {\n",
    "    'subject' : subj,\n",
    "    'xfm' : xfm,\n",
    "    'mHRF' : {\n",
    "        'arr' : {},\n",
    "        'vol' : {},\n",
    "    },\n",
    "    'dHRF' : {\n",
    "        'arr' : {},\n",
    "        'vol' : {},\n",
    "    },\n",
    "}"
   ]
  },
  {
   "cell_type": "code",
   "execution_count": 87,
   "metadata": {},
   "outputs": [
    {
     "name": "stdout",
     "output_type": "stream",
     "text": [
      "Processing mHRF\n",
      "Model: lin\n",
      "Model: lin_ng\n",
      "Model: css\n",
      "Model: dog\n",
      "Processing dHRF\n",
      "Model: lin\n",
      "Model: lin_ng\n",
      "Model: css\n",
      "Model: dog\n"
     ]
    }
   ],
   "source": [
    "# Get the data\n",
    "for h in ['m','d']:\n",
    "    print('Processing ' + h + 'HRF')\n",
    "    for M in Models[h + 'hrf']:\n",
    "        # get model idx so we create a shorter variable name\n",
    "        midx = Models[h + 'hrf'].index(M)\n",
    "        print('Model: ' + Models['names'][midx])\n",
    "        \n",
    "        # get the mean R2 map\n",
    "        volpath = os.path.join(FitResPath,'MRI',subj.lower(),M,'Sess-' + M + '_meanR2.nii.gz')\n",
    "        volpath1 = os.path.join(FitResPath,'MRI',subj.lower(),M,'Sess-' + M + '_R2_1.nii.gz')\n",
    "        volpath2 = os.path.join(FitResPath,'MRI',subj.lower(),M,'Sess-' + M + '_R2_2.nii.gz')\n",
    "\n",
    "        # load the results into numpy arrays with nibabel\n",
    "        R2 = np.array(nib.load(volpath).dataobj)\n",
    "        R2_1 = np.array(nib.load(volpath1).dataobj)\n",
    "        R2_2 = np.array(nib.load(volpath2).dataobj)\n",
    "\n",
    "        # convert to pycortex volumes\n",
    "        R2v = cortex.Volume(R2.transpose(2,1,0), subj, xfm)\n",
    "        R2_1v = cortex.Volume(R2_1.transpose(2,1,0), subj, xfm)\n",
    "        R2_2v = cortex.Volume(R2_2.transpose(2,1,0), subj, xfm)\n",
    "\n",
    "        # add info to dictionaries\n",
    "        # numpy arrays\n",
    "        FitRes = {\n",
    "            'R2' : R2,\n",
    "            'R2_1' : R2_1,\n",
    "            'R2_2' : R2_2\n",
    "            }\n",
    "        # pycortex volumes\n",
    "        FitRes_vol = {\n",
    "            'R2' : R2v,\n",
    "            'R2_1' : R2_1v,\n",
    "            'R2_2' : R2_2v\n",
    "            }\n",
    "\n",
    "        # also get othere results\n",
    "        for R in Res_type:\n",
    "            volpath = os.path.join(FitResPath,'MRI',subj.lower(),M,'TH_0', R + '_th0.nii.gz')\n",
    "            if os.path.exists(volpath):\n",
    "                FitRes[R] = np.array(nib.load(volpath).dataobj)\n",
    "                FitRes_vol[R] = cortex.Volume(FitRes[R].transpose(2,1,0), subj, xfm)\n",
    "\n",
    "        # bring it all together\n",
    "        FR[h + 'HRF']['arr'][Model_names[midx]] = FitRes\n",
    "        FR[h + 'HRF']['vol'][Model_names[midx]] = FitRes_vol"
   ]
  },
  {
   "cell_type": "markdown",
   "metadata": {},
   "source": [
    "Check in webviewer"
   ]
  },
  {
   "cell_type": "code",
   "execution_count": 69,
   "metadata": {
    "collapsed": true,
    "jupyter": {
     "outputs_hidden": true
    }
   },
   "outputs": [
    {
     "name": "stdout",
     "output_type": "stream",
     "text": [
      "Started server on port 60281\n"
     ]
    },
    {
     "data": {
      "text/plain": [
       "<JS: window.viewer>"
      ]
     },
     "execution_count": 69,
     "metadata": {},
     "output_type": "execute_result"
    },
    {
     "name": "stdout",
     "output_type": "stream",
     "text": [
      "Stopping server\n"
     ]
    }
   ],
   "source": [
    "cortex.webgl.show(data=FR['mHRF']['vol']['lin'])"
   ]
  },
  {
   "cell_type": "code",
   "execution_count": 76,
   "metadata": {},
   "outputs": [],
   "source": [
    "# Inspect the result volumes (should be numpy arrays)\n",
    "RR = copy.copy(FR['mHRF']['arr']['lin']['R2'])\n",
    "RR[RR < 5] ='nan'\n",
    "cortex.webgl.show(data=cortex.Volume(RR.transpose(2,1,0), subj, xfm))"
   ]
  },
  {
   "cell_type": "markdown",
   "metadata": {},
   "source": [
    "Define a function to mask the results based on R2 values"
   ]
  },
  {
   "cell_type": "code",
   "execution_count": 93,
   "metadata": {},
   "outputs": [],
   "source": [
    "def r2mask(DataDict,RTH):\n",
    "    # mask the numpy arrays by inserting nan's\n",
    "    for hrf in ['mHRF','dHRF']:\n",
    "        for m in DataDict[hrf]['arr']:\n",
    "            for res in DataDict[hrf]['arr'][m]:\n",
    "                if res is not 'R2':\n",
    "                    DataDict[hrf]['arr'][m][res][ DataDict[hrf]['arr'][m]['R2'] < RTH ] = 'nan'\n",
    "                    # also convert to the pycortex volume\n",
    "                    DataDict[hrf]['vol'][m][res] = cortex.Volume(DataDict[hrf]['arr'][m][res].transpose(2,1,0), DataDict['subject'], DataDict['xfm'])\n",
    "                        \n",
    "            DataDict[hrf]['arr'][m]['R2'][ DataDict[hrf]['arr'][m]['R2'] < RTH ] = 'nan' \n",
    "            DataDict[hrf]['vol'][m]['R2'] = cortex.Volume(DataDict[hrf]['arr'][m]['R2'].transpose(2,1,0), DataDict['subject'], DataDict['xfm'])\n",
    "\n",
    "    return DataDict"
   ]
  },
  {
   "cell_type": "code",
   "execution_count": 94,
   "metadata": {},
   "outputs": [
    {
     "name": "stdout",
     "output_type": "stream",
     "text": [
      "Started server on port 34261\n"
     ]
    },
    {
     "data": {
      "text/plain": [
       "<JS: window.viewer>"
      ]
     },
     "execution_count": 94,
     "metadata": {},
     "output_type": "execute_result"
    },
    {
     "name": "stdout",
     "output_type": "stream",
     "text": [
      "Stopping server\n"
     ]
    }
   ],
   "source": [
    "mFR = copy.deepcopy(FR)\n",
    "mFR = r2mask(mFR,2)\n",
    "cortex.webgl.show(data=mFR['mHRF']['vol']['lin'])"
   ]
  },
  {
   "cell_type": "code",
   "execution_count": null,
   "metadata": {},
   "outputs": [],
   "source": []
  }
 ],
 "metadata": {
  "kernelspec": {
   "display_name": "Python 3",
   "language": "python",
   "name": "python3"
  },
  "language_info": {
   "codemirror_mode": {
    "name": "ipython",
    "version": 3
   },
   "file_extension": ".py",
   "mimetype": "text/x-python",
   "name": "python",
   "nbconvert_exporter": "python",
   "pygments_lexer": "ipython3",
   "version": "3.7.6"
  }
 },
 "nbformat": 4,
 "nbformat_minor": 4
}
