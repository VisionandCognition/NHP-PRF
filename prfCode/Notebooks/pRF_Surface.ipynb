{
 "cells": [
  {
   "cell_type": "markdown",
   "metadata": {},
   "source": [
    "# **Project pRF fitting results to the Freesurfer surfaces**\n",
    "This notebook will guide you through the step necessary to project fMRI pRF results on the surfaces that were generated with Freesurfer. It uses Freesurfer's `mri_vol2surf` method of projecting volumetric results to the surface. A nicer (newer) way of doing this, is with pycortex. There's a notebook in the `NHP-Freesurfer` repository called `freesurfer2pycortex` that explains that method. We reommend going that route."
   ]
  },
  {
   "cell_type": "markdown",
   "metadata": {},
   "source": [
    "### Initiation - Variables and paths"
   ]
  },
  {
   "cell_type": "code",
   "execution_count": 9,
   "metadata": {},
   "outputs": [],
   "source": [
    "# what subject?\n",
    "SUBJ=Danny\n",
    "\n",
    "# where can we find the epi space the results are in?\n",
    "# This is usually the reference from the `manual-masks' folder that is used for preprocessing and modelfit in NHP-BIDS.\n",
    "EPI_ROOT=/Users/chris/Documents/MRI_ANALYSIS/NHP-BIDS/manual-masks/sub-${SUBJ,}/func\n",
    "EPI=${EPI_ROOT}/sub-${SUBJ,}_ref_func_res-1x1x1.nii.gz\n",
    "EPI_MASK=${EPI_ROOT}/sub-${SUBJ,}_ref_func_mask_res-1x1x1.nii.gz\n",
    "EPI_BRAIN=${EPI_ROOT}/sub-${SUBJ,}_ref_func_brain_res-1x1x1.nii.gz\n",
    "\n",
    "# and the individual anatomical space they have been registered to\n",
    "ANAT_ROOT=/Users/chris/Documents/MRI_ANALYSIS/NHP-BIDS/manual-masks/sub-${SUBJ,}/anat\n",
    "ANAT=${EPI_ROOT}/sub-${SUBJ,}_ref_anat_res-1x1x1.nii.gz\n",
    "ANAT_MASK=${ANAT_ROOT}/sub-${SUBJ,}_ref_anat_mask_res-1x1x1.nii.gz\n",
    "ANAT_BRAIN=${ANAT_ROOT}/sub-${SUBJ,}_ref_anat_brain_res-1x1x1.nii.gz\n",
    "\n",
    "# where is the anatomical you'd like to register to?\n",
    "# $SUBJECTS_DIR should point to the Freesurfer subjects directory. Adjust your bashrc to export this if it doesn't do so already.\n",
    "T1=${SUBJECTS_DIR}/${SUBJ}/mri/brainmask.mgz\n",
    "# and the corresponding white matter segmentation?\n",
    "WM=${SUBJECTS_DIR}/${SUBJ}/mri/wm.mgz\n",
    "# where's the surface folder for this subject?\n",
    "FSSURF=${SUBJECTS_DIR}/${SUBJ}/surf\n",
    "FSMMREG=${SUBJECTS_DIR}/${SUBJ}/manual-masks_toFS\n",
    "mkdir -p $FSMMREG/anat\n",
    "mkdir -p $FSMMREG/func\n",
    "\n",
    "# where are the volume-based results\n",
    "pRFVol=/Users/chris/Documents/CURRENT_PROJECTS/NHP_MRI/Projects/pRF/FitResults/MRI/${SUBJ,}\n",
    "\n",
    "# where will the surfaces be saved?\n",
    "SURF_OUT=/Users/chris/Documents/CURRENT_PROJECTS/NHP_MRI/Projects/pRF/FitResults/Reference/Surfaces/${SUBJ,}\n",
    "mkdir -p ${SURF_OUT}"
   ]
  },
  {
   "cell_type": "markdown",
   "metadata": {},
   "source": [
    "### Check if registrations of manual-mask references to FS-Subjects exist and create if they don't"
   ]
  },
  {
   "cell_type": "code",
   "execution_count": 6,
   "metadata": {},
   "outputs": [
    {
     "name": "stdout",
     "output_type": "stream",
     "text": [
      "Create a tkreg file\n"
     ]
    }
   ],
   "source": [
    "# Check if a tkreg file has already been generated (if so, we can skip a few steps)\n",
    "if [ -f \"${FSMMREG}/func/reg.fsl.dat\" ]\n",
    "then\n",
    "    make_tkreg=false\n",
    "    echo \"No need to create a tkreg file\"\n",
    "else\n",
    "    make_tkreg=true\n",
    "    echo \"Create a tkreg file\"\n",
    "fi"
   ]
  },
  {
   "cell_type": "markdown",
   "metadata": {},
   "source": [
    "## Flirt registration of epi to T1\n",
    "The T1 you pick here is the header adjusted one that formed the based of the surface generation in Freesurfer. We do not have to adjust the header of the epi, because flirt will generally be able to take of the scaling. If this fails for some reason you can still do it manually with `3drefit -xdel 2.0 -ydel 2.0 -zdel 2.0 -keepcen <epi>.nii.gz`. Note that we set voxel sizes to 2 mm in the header in this case. The reason is that for the T1 we had 0.5 mm voxels and adjusted the header to 1 mm, a factor of 2. Our pre-processed epi's have 1 mm voxels, so applying the same factor of 2 means the header info should state that the voxels are 2 mm isotropic.\n",
    "\n",
    "Be aware that, when you first adjust the header and then do flirt, the final registration matrix will not include this scaling and expect header-adjusted input. Any result you want to warp to the surface will thus first have to be adjusted. You don't have to do this is if the flirt is performed on the non-adjusted epi. \n",
    "\n",
    "NB1! One thing to carefully check is whether the x-direction of the voxel order matches between the epi and T1 because if it doesn't we will see left/right flips. With some of our older standard epi's this needs correction (later I corrected it in the reference file for pre-processing). There's a script that does that for you called `swap_xdir_voxels.sh`. You can find it in the `bin` folder of the `Process-NHP-MRI` repository (https://github.com/VisionandCognition/Process-NHP-MRI)\n",
    "\n",
    "NB2! flirt works significantly better if you include the white matter segmentation (`-wmseg`) of the T1 and phase encoding direction (`-pedir`) of the epi. Check the documentation to find how to code this. If you used Chris Klink's standard epi sequence, your `-pedir` is `-2`."
   ]
  },
  {
   "cell_type": "markdown",
   "metadata": {},
   "source": [
    "## Create the tkregister matrix\n",
    "Now we will use the flirt registration matrix to create a registration matrix in freesurfer format. To get there, we can use the freesurfer program `tkregister` that allows manual registration between 2 volumes. We will inititate it with the flirt matrix and check whether registration is good. If not, you can make manual adjustments, but flirt probably does a better job than manual attempts. Within `tkregister` you can check the alignment of the two volumes by clicking `compare`. Save the registration matrix as `reg.fsl.dat`."
   ]
  },
  {
   "cell_type": "code",
   "execution_count": 7,
   "metadata": {
    "collapsed": true,
    "jupyter": {
     "outputs_hidden": true
    }
   },
   "outputs": [
    {
     "name": "stdout",
     "output_type": "stream",
     "text": [
      "mri_convert.bin /media/DATA1/NHP_MRI/freesurfer/subjects/Danny/mri/brainmask.mgz /Users/chris/Documents/CURRENT_PROJECTS/NHP_MRI/Projects/pRF/FitResults/Reference/Surfaces/danny/brain.nii.gz \n",
      "$Id: mri_convert.c,v 1.226 2016/02/26 16:15:24 mreuter Exp $\n",
      "reading from /media/DATA1/NHP_MRI/freesurfer/subjects/Danny/mri/brainmask.mgz...\n",
      "TR=0.00, TE=0.00, TI=0.00, flip angle=0.00\n",
      "i_ras = (-1, 0, 0)\n",
      "j_ras = (0, 0, -1)\n",
      "k_ras = (0, 1, 0)\n",
      "writing to /Users/chris/Documents/CURRENT_PROJECTS/NHP_MRI/Projects/pRF/FitResults/Reference/Surfaces/danny/brain.nii.gz...\n",
      "mri_convert.bin /media/DATA1/NHP_MRI/freesurfer/subjects/Danny/mri/wm.mgz /Users/chris/Documents/CURRENT_PROJECTS/NHP_MRI/Projects/pRF/FitResults/Reference/Surfaces/danny/wm.nii.gz \n",
      "$Id: mri_convert.c,v 1.226 2016/02/26 16:15:24 mreuter Exp $\n",
      "reading from /media/DATA1/NHP_MRI/freesurfer/subjects/Danny/mri/wm.mgz...\n",
      "TR=0.00, TE=0.00, TI=0.00, flip angle=0.00\n",
      "i_ras = (-1, 0, 0)\n",
      "j_ras = (0, 0, -1)\n",
      "k_ras = (0, 1, 0)\n",
      "writing to /Users/chris/Documents/CURRENT_PROJECTS/NHP_MRI/Projects/pRF/FitResults/Reference/Surfaces/danny/wm.nii.gz...\n",
      "ERROR::set_bbr_seg: could not find any boundary points!\n",
      "tkregister_tcl /media/DATA1/NHP_MRI/freesurfer/tktools/tkregister2.tcl\n",
      "---- FSL registration matrix --------\n",
      " 2.02740  -0.01509  -0.00542   41.65104;\n",
      " 0.00710  -0.00596  -2.05053   185.57065;\n",
      " 0.02381   2.00621   0.17919   34.92606;\n",
      " 0.00000   0.00000   0.00000   1.00000;\n",
      "---------------------------------------\n",
      "target  volume /Users/chris/Documents/CURRENT_PROJECTS/NHP_MRI/Projects/pRF/FitResults/Reference/Surfaces/danny/brain.nii.gz\n",
      "movable volume /Users/chris/Documents/MRI_ANALYSIS/NHP-BIDS/manual-masks/sub-danny/func//sub-danny_ref_func_brain_res-1x1x1.nii.gz\n",
      "reg file       /media/DATA1/NHP_MRI/freesurfer/subjects/Danny/manual-masks_toFS/func/reg.fsl.dat\n",
      "LoadVol        1\n",
      "ZeroCRAS       0\n",
      "$Id: tkregister2.c,v 1.132.2.1 2016/08/02 21:17:29 greve Exp $\n",
      "Diagnostic Level -1\n",
      "INFO: loading target /Users/chris/Documents/CURRENT_PROJECTS/NHP_MRI/Projects/pRF/FitResults/Reference/Surfaces/danny/brain.nii.gz\n",
      "INFO: changing target type to float\n",
      "Ttarg: --------------------\n",
      "-1.00000   0.00000   0.00000   128.00000;\n",
      " 0.00000   0.00000   1.00000  -128.00000;\n",
      " 0.00000  -1.00000   0.00000   128.00000;\n",
      " 0.00000   0.00000   0.00000   1.00000;\n",
      "INFO: loading movable /Users/chris/Documents/MRI_ANALYSIS/NHP-BIDS/manual-masks/sub-danny/func//sub-danny_ref_func_brain_res-1x1x1.nii.gz\n",
      "Tmov: --------------------\n",
      "-1.00000   0.00000   0.00000   45.00000;\n",
      " 0.00000   0.00000   1.00000  -28.00000;\n",
      " 0.00000  -1.00000   0.00000   45.00000;\n",
      " 0.00000   0.00000   0.00000   1.00000;\n",
      "mkheaderreg = 0, float2int = 0\n",
      "FSLOUTPUTTYPE NIFTI_GZ \n",
      "fsl2TkReg: mov det = 1, ref det = -1\n",
      "INFO: FSL2FreeSurfer: Mov volume is NIFTI with positive det,\n",
      "      applying LR flip to registration matrix.\n",
      "---- Input registration matrix (computed) --------\n",
      "-0.49320   0.00371   0.00098  -1.01108;\n",
      "-0.00172  -0.00144   0.48781   0.09871;\n",
      "-0.00601  -0.49854   0.04358   1.62712;\n",
      " 0.00000   0.00000   0.00000   1.00000;\n",
      "---------------------------------------\n",
      "---- Input registration matrix --------\n",
      "-0.49320   0.00371   0.00098  -1.01108;\n",
      "-0.00172  -0.00144   0.48781   0.09871;\n",
      "-0.00601  -0.49854   0.04358   1.62712;\n",
      " 0.00000   0.00000   0.00000   1.00000;\n",
      "Determinant -0.119921\n",
      "subject = Danny\n",
      "Zoom Factor = 2, SQR() = 4\n",
      "FOV = 256\n",
      "Opening window Danny\n",
      "Opening Danny, xnum = 256, xdim = 512\n",
      "Setting scale\n",
      "tkregister2: interface: /media/DATA1/NHP_MRI/freesurfer/tktools/tkregister2.tcl\n",
      "tkregister.tcl: startup done\n",
      "tkregister.tcl: default macro interface (to change: macro,mini,micro)\n",
      "tkregister.tcl: or: setenv tkregisterinterface {macro,mini,micro}\n",
      "% RegMat ---------------------------\n",
      "-0.49320   0.00371   0.00098  -1.01108;\n",
      "-0.00172  -0.00144   0.48781   0.09871;\n",
      "-0.00601  -0.49854   0.04358   1.62712;\n",
      " 0.00000   0.00000   0.00000   1.00000;\n"
     ]
    }
   ],
   "source": [
    "# functional\n",
    "if [ \"$make_tkreg\" = true ]; then # only do this if it doesn't exist already\n",
    "    # get the brain and white matter volumes from freesurfer & convert to nifti\n",
    "    mri_convert ${T1} ${SURF_OUT}/brain.nii.gz \n",
    "    mri_convert ${WM} ${SURF_OUT}/wm.nii.gz \n",
    "    # calculate the registration\n",
    "    flirt -ref ${SURF_OUT}/brain.nii.gz -wmseg ${SURF_OUT}/wm.nii.gz -in ${EPI_BRAIN} \\\n",
    "        -out ${FSMMREG}/func/epi2anat.nii.gz -omat ${FSMMREG}/func/epi2anat.mat -pedir -2\n",
    "    # create the tkreg matrix\n",
    "    tkregister2 --mov ${EPI_BRAIN} --targ ${SURF_OUT}/brain.nii.gz --fsl  ${FSMMREG}/func/epi2anat.mat \\\n",
    "        --reg  ${FSMMREG}/func/reg.fsl.dat --s ${SUBJ}    \n",
    "fi"
   ]
  },
  {
   "cell_type": "code",
   "execution_count": 11,
   "metadata": {
    "collapsed": true,
    "jupyter": {
     "outputs_hidden": true
    }
   },
   "outputs": [
    {
     "name": "stdout",
     "output_type": "stream",
     "text": [
      "tkregister_tcl /media/DATA1/NHP_MRI/freesurfer/tktools/tkregister2.tcl\n",
      "---- FSL registration matrix --------\n",
      " 1.99823   0.00424  -0.00501   40.11943;\n",
      "-0.00098   0.00822  -2.00982   189.14003;\n",
      "-0.00338   2.01534   0.01022   37.64399;\n",
      " 0.00000   0.00000   0.00000   1.00000;\n",
      "---------------------------------------\n",
      "target  volume /Users/chris/Documents/CURRENT_PROJECTS/NHP_MRI/Projects/pRF/FitResults/Reference/Surfaces/danny/brain.nii.gz\n",
      "movable volume /Users/chris/Documents/MRI_ANALYSIS/NHP-BIDS/manual-masks/sub-danny/anat/sub-danny_ref_anat_brain_res-1x1x1.nii.gz\n",
      "reg file       /media/DATA1/NHP_MRI/freesurfer/subjects/Danny/manual-masks_toFS/anat/reg.fsl.dat\n",
      "LoadVol        1\n",
      "ZeroCRAS       0\n",
      "$Id: tkregister2.c,v 1.132.2.1 2016/08/02 21:17:29 greve Exp $\n",
      "Diagnostic Level -1\n",
      "INFO: loading target /Users/chris/Documents/CURRENT_PROJECTS/NHP_MRI/Projects/pRF/FitResults/Reference/Surfaces/danny/brain.nii.gz\n",
      "INFO: changing target type to float\n",
      "Ttarg: --------------------\n",
      "-1.00000   0.00000   0.00000   128.00000;\n",
      " 0.00000   0.00000   1.00000  -128.00000;\n",
      " 0.00000  -1.00000   0.00000   128.00000;\n",
      " 0.00000   0.00000   0.00000   1.00000;\n",
      "INFO: loading movable /Users/chris/Documents/MRI_ANALYSIS/NHP-BIDS/manual-masks/sub-danny/anat/sub-danny_ref_anat_brain_res-1x1x1.nii.gz\n",
      "Tmov: --------------------\n",
      "-1.00000   0.00000   0.00000   45.00000;\n",
      " 0.00000   0.00000   1.00000  -30.50000;\n",
      " 0.00000  -1.00000   0.00000   45.00000;\n",
      " 0.00000   0.00000   0.00000   1.00000;\n",
      "mkheaderreg = 0, float2int = 0\n",
      "FSLOUTPUTTYPE NIFTI_GZ \n",
      "fsl2TkReg: mov det = 1, ref det = -1\n",
      "INFO: FSL2FreeSurfer: Mov volume is NIFTI with positive det,\n",
      "      applying LR flip to registration matrix.\n",
      "---- Input registration matrix (computed) --------\n",
      "-0.50044  -0.00105   0.00125  -0.03911;\n",
      " 0.00024   0.00203   0.49755   0.08217;\n",
      " 0.00084  -0.49618   0.00252   0.24727;\n",
      " 0.00000   0.00000   0.00000   1.00000;\n",
      "---------------------------------------\n",
      "---- Input registration matrix --------\n",
      "-0.50044  -0.00105   0.00125  -0.03911;\n",
      " 0.00024   0.00203   0.49755   0.08217;\n",
      " 0.00084  -0.49618   0.00252   0.24727;\n",
      " 0.00000   0.00000   0.00000   1.00000;\n",
      "Determinant -0.123548\n",
      "subject = Danny\n",
      "Zoom Factor = 2, SQR() = 4\n",
      "FOV = 256\n",
      "Opening window Danny\n",
      "Opening Danny, xnum = 256, xdim = 512\n",
      "Setting scale\n",
      "tkregister2: interface: /media/DATA1/NHP_MRI/freesurfer/tktools/tkregister2.tcl\n",
      "tkregister.tcl: startup done\n",
      "tkregister.tcl: default macro interface (to change: macro,mini,micro)\n",
      "tkregister.tcl: or: setenv tkregisterinterface {macro,mini,micro}\n",
      "% RegMat ---------------------------\n",
      "-0.50044  -0.00105   0.00125  -0.03911;\n",
      " 0.00024   0.00203   0.49755   0.08217;\n",
      " 0.00084  -0.49618   0.00252   0.24727;\n",
      " 0.00000   0.00000   0.00000   1.00000;\n"
     ]
    }
   ],
   "source": [
    "# anatomical\n",
    "if [ \"$make_tkreg\" = true ]; then # only do this if it doesn't exist already\n",
    "    # calculate the registration\n",
    "    flirt -ref ${SURF_OUT}/brain.nii.gz -in ${ANAT_BRAIN} \\\n",
    "        -out ${FSMMREG}/anat/anat2anat.nii.gz -omat ${FSMMREG}/anat/anat2anat.mat\n",
    "    # create the tkreg matrix\n",
    "    tkregister2 --mov ${ANAT_BRAIN} --targ ${SURF_OUT}/brain.nii.gz --fsl  ${FSMMREG}/anat/anat2anat.mat \\\n",
    "        --reg  ${FSMMREG}/anat/reg.fsl.dat --s ${SUBJ}    \n",
    "fi"
   ]
  },
  {
   "cell_type": "code",
   "execution_count": 13,
   "metadata": {},
   "outputs": [],
   "source": [
    "# copy the freesurfer surfaces to the outputfolder\n",
    "cp -r ${FSSURF} ${SURF_OUT}/fs_surf\n",
    "# copy the tkreg for volume to surface conversion as well\n",
    "cp -r ${FSMMREG} ${SURF_OUT}/fs_tkreg"
   ]
  },
  {
   "cell_type": "markdown",
   "metadata": {},
   "source": [
    "## Convert volumes to surface representation    \n",
    "Cycle over models, cv-modes, hrfs, and R2-thresholds (for both hemispheres)."
   ]
  },
  {
   "cell_type": "code",
   "execution_count": 14,
   "metadata": {},
   "outputs": [],
   "source": [
    "# values to cycle over\n",
    "declare -a volspace=(anat)\n",
    "declare -a hrfmod=(mhrf dhrf)\n",
    "declare -a cv=(cv1)\n",
    "declare -a models=(linhrf linhrf_neggain csshrf doghrf)\n",
    "declare -a TH=(0 1 2 3 4 5 10)\n",
    "# let the function automatically take care of both hemispheres internally"
   ]
  },
  {
   "cell_type": "markdown",
   "metadata": {},
   "source": [
    "We can now convert the statistical volumes to surface representations using the `mri_vol2surf` command. Since this essentially brings a 3d result to 2d there is a choice to be made on how/where to sample. The `--projfrac` tells the command where between the WM/GM border (`--projfract 0`) and the pial surface (`--projfract 1`) to get the data. These fractions can also be negative (going into the WM) or higher than 1 (beyond the pial surface). Alternatively, you can average along the normal between WM/GM border and pial surface using `--projfrac-avg min max stepsize` or the maximum by using `--projfrac-max min max stepsize`."
   ]
  },
  {
   "cell_type": "code",
   "execution_count": 19,
   "metadata": {},
   "outputs": [],
   "source": [
    "# look at the mri_vol2surf documentation for more info\n",
    "# mri_vol2surf --help"
   ]
  },
  {
   "cell_type": "code",
   "execution_count": 28,
   "metadata": {},
   "outputs": [],
   "source": [
    "function Result_Vol2Surf() {\n",
    "    SUBJ=$1\n",
    "    VolSpace=$2\n",
    "    HRF=$3\n",
    "    CV=$4\n",
    "    MOD=$5\n",
    "    TH=$6\n",
    "    SurfMethod=$7\n",
    "    tkReg=/Users/chris/Documents/CURRENT_PROJECTS/NHP_MRI/Projects/pRF/FitResults/Reference/Surfaces/${SUBJ,}/fs_tkreg/${VolSpace}/reg.fsl.dat\n",
    "    \n",
    "    # get folder name\n",
    "    if [ $MOD = linhrf_neggain ]; then\n",
    "        modlabel=linhrf_${CV}_${HRF}_neggain\n",
    "    else\n",
    "        modlabel=${MOD}_${CV}_${HRF}\n",
    "    fi\n",
    "    \n",
    "    # output folder depends on volspace\n",
    "    if [ ${VolSpace} == \"anat\" ]; then \n",
    "        OUT=/Users/chris/Documents/CURRENT_PROJECTS/NHP_MRI/Projects/pRF/FitResults/MRI/${SUBJ,}/${modlabel}/inAnat\n",
    "    elif [ ${VolSpace} == \"func\" ]; then \n",
    "        OUT=/Users/chris/Documents/CURRENT_PROJECTS/NHP_MRI/Projects/pRF/FitResults/MRI/${SUBJ,}/${modlabel}\n",
    "    fi\n",
    "    \n",
    "    # R2 depends on CV mode (but in the end we only do cv1 anyway)\n",
    "    if [ $CV = cv0 ]; then\n",
    "        R2=${OUT}/Sess-${modlabel}_R2.nii.gz\n",
    "    elif [ $CV = cv1 ]; then\n",
    "        R2=${OUT}/Sess-${modlabel}_meanR2.nii.gz\n",
    "    fi\n",
    "\n",
    "    SURFOUT=${OUT}/TH_${TH}/surf\n",
    "    mkdir -p ${SURFOUT}\n",
    "\n",
    "    declare -a HEMI=(lh rh)\n",
    "\n",
    "    # R2 to surface for both hemispheres\n",
    "    for xh in ${HEMI[@]}; do\n",
    "        # R2\n",
    "        mri_vol2surf --trgsubject ${SUBJ} --src $R2 --out ${SURFOUT}/${xh}.R2.w \\\n",
    "            --out_type paint --${SurfMethod} \\\n",
    "            --srcreg ${tkReg} --hemi ${xh}\n",
    "    done   \n",
    "\n",
    "    # Threshold folder\n",
    "    TH_fld=${OUT}/TH_${TH}\n",
    "    TH_OUT=${TH_fld}/surf\n",
    "    mkdir -p ${TH_OUT}\n",
    "        \n",
    "    # Volumes to variables == UNIVERSAL ONES ==\n",
    "    ANG=${TH_fld}/ANG_th${TH}.nii.gz\n",
    "    ECC=${TH_fld}/ECC_th${TH}.nii.gz\n",
    "    FWHM=${TH_fld}/FWHM_th${TH}.nii.gz\n",
    "    X=${TH_fld}/X_th${t}.nii.gz\n",
    "    Y=${TH_fld}/Y_th${t}.nii.gz\n",
    "    RFS=${TH_fld}/RFS_th${t}.nii.gz\n",
    "    REAL=${TH_fld}/REAL_th${t}.nii.gz\n",
    "    IMAG=${TH_fld}/IMAG_th${t}.nii.gz\n",
    "    GAIN=${TH_fld}/GAIN_th${t}.nii.gz\n",
    "                            \n",
    "    # Change angles for visualisation\n",
    "    fslmaths $ANG -sub 90 ${TH_fld}/ANGv.nii.gz\n",
    "    fslmaths ${TH_fld}/ANGv.nii.gz -binv -mul 360 -add ${TH_fld}/ANGv.nii.gz ${TH_fld}/ANGv.nii.gz\n",
    "    fslmaths ${TH_fld}/ANGv.nii.gz -mul ${TH_fld}/mask_th${t}.nii.gz -sub ${TH_fld}/invmask_th${t}.nii.gz ${TH_fld}/ANGv.nii.gz\n",
    "    ANGV=${TH_fld}/ANGv.nii.gz\n",
    "\n",
    "    fslmaths ${TH_fld}/invmask_th${t}.nii.gz -mul -99 -add $ANG $ANG\n",
    "    fslmaths ${TH_fld}/invmask_th${t}.nii.gz -mul -99 -add $ANGV $ANGV\n",
    "    fslmaths ${TH_fld}/invmask_th${t}.nii.gz -mul -99 -add $ECC $ECC\n",
    "    fslmaths ${TH_fld}/invmask_th${t}.nii.gz -mul -99 -add $FWHM $FWHM\n",
    "    fslmaths ${TH_fld}/invmask_th${t}.nii.gz -mul -99 -add $X $X\n",
    "    fslmaths ${TH_fld}/invmask_th${t}.nii.gz -mul -99 -add $Y $Y\n",
    "    fslmaths ${TH_fld}/invmask_th${t}.nii.gz -mul -99 -add $RFS $RFS\n",
    "    fslmaths ${TH_fld}/invmask_th${t}.nii.gz -mul -99 -add $REAL $REAL\n",
    "    fslmaths ${TH_fld}/invmask_th${t}.nii.gz -mul -99 -add $IMAG $IMAG\n",
    "    fslmaths ${TH_fld}/invmask_th${t}.nii.gz -mul -99 -add $GAIN $GAIN\n",
    "               \n",
    "    # create surface overlays                \n",
    "    for xh in ${HEMI[@]}; do\n",
    "        # angles\n",
    "        mri_vol2surf --trgsubject ${SUBJ} --src $ANG --out ${SURFOUT}/${xh}.ANGLE.w \\\n",
    "            --out_type paint --${SurfMethod} --srcreg ${tkReg} --hemi ${xh}\n",
    "        mri_vol2surf --trgsubject ${SUBJ} --src $ANGV --out ${SURFOUT}/${xh}.ANGLEV.w \\\n",
    "            --out_type paint --${SurfMethod} --srcreg ${tkReg} --hemi ${xh}\n",
    "        # ecc\n",
    "        mri_vol2surf --trgsubject ${SUBJ} --src $ECC --out ${SURFOUT}/${xh}.ECC.w \\\n",
    "            --out_type paint --${SurfMethod} --srcreg ${tkReg} --hemi ${xh}\n",
    "        # fwhm\n",
    "        mri_vol2surf --trgsubject ${SUBJ} --src $FWHM --out ${SURFOUT}/${xh}.FWHM.w \\\n",
    "            --out_type paint --${SurfMethod} --srcreg ${tkReg} --hemi ${xh}\n",
    "        # x\n",
    "        mri_vol2surf --trgsubject ${SUBJ} --src $X --out ${SURFOUT}/${xh}.X.w \\\n",
    "            --out_type paint --${SurfMethod} --srcreg ${tkReg} --hemi ${xh}\n",
    "        # y\n",
    "        mri_vol2surf --trgsubject ${SUBJ} --src $Y --out ${SURFOUT}/${xh}.Y.w \\\n",
    "            --out_type paint --${SurfMethod} --srcreg ${tkReg} --hemi ${xh}\n",
    "        # rfs\n",
    "        mri_vol2surf --trgsubject ${SUBJ} --src $RFS --out ${SURFOUT}/${xh}.RFS.w \\\n",
    "            --out_type paint --${SurfMethod} --srcreg ${tkReg} --hemi ${xh}\n",
    "        # real\n",
    "        mri_vol2surf --trgsubject ${SUBJ} --src $REAL --out ${SURFOUT}/${xh}.REAL.w \\\n",
    "            --out_type paint -${SurfMethod} --srcreg ${tkReg} --hemi ${xh}\n",
    "        # imag\n",
    "        mri_vol2surf --trgsubject ${SUBJ} --src $IMAG --out ${SURFOUT}/${xh}.IMAG.w \\\n",
    "            --out_type paint --${SurfMethod} --srcreg ${tkReg} --hemi ${xh}\n",
    "        # gain\n",
    "        mri_vol2surf --trgsubject ${SUBJ} --src $GAIN --out ${SURFOUT}/${xh}.GAIN.w \\\n",
    "            --out_type paint --${SurfMethod} --srcreg ${tkReg} --hemi ${xh}\n",
    "    done\n",
    "    \n",
    "    \n",
    "    # CSS SPECIFIC\n",
    "    if [ ${MOD:0:3} = 'css' ]; then\n",
    "        EXPT=${TH_fld}/EXPT_th${t}.nii.gz\n",
    "        EXPTSQ=${TH_fld}/EXPTSQ_th${t}.nii.gz\n",
    "        fslmaths ${TH_fld}/invmask_th${t}.nii.gz -mul -99 -add $EXPT $EXPT\n",
    "        fslmaths ${TH_fld}/invmask_th${t}.nii.gz -mul -99 -add $EXPT $EXPT\n",
    "        for xh in ${HEMI[@]}; do\n",
    "            mri_vol2surf --trgsubject ${SUBJ} --src $EXPT --out ${SURFOUT}/${xh}.EXPT.w \\\n",
    "                --out_type paint --${SurfMethod} --srcreg ${tkReg} --hemi ${xh}\n",
    "            mri_vol2surf --trgsubject ${SUBJ} --src $EXPTSQ --out ${SURFOUT}/${xh}.EXPTSQ.w \\\n",
    "                --out_type paint --${SurfMethod} --srcreg ${tkReg} --hemi ${xh}\n",
    "        done\n",
    "    fi        \n",
    "\n",
    "    # DOG SPECIFIC\n",
    "    if [ ${MOD:0:3} = 'dog' ]; then\n",
    "        IRFS=${TH_fld}/IRFS_th${t}.nii.gz\n",
    "        NAMP=${TH_fld}/NAMP_th${t}.nii.gz\n",
    "        SDRATIO=${TH_fld}/SDRATIO_th${t}.nii.gz\n",
    "        fslmaths ${TH_fld}/invmask_th${t}.nii.gz -mul -99 -add $IRFS $IRFS\n",
    "        fslmaths ${TH_fld}/invmask_th${t}.nii.gz -mul -99 -add $NAMP $NAMP\n",
    "        fslmaths ${TH_fld}/invmask_th${t}.nii.gz -mul -99 -add $SDRATIO $SDRATIO\n",
    "        for xh in ${HEMI[@]}; do\n",
    "            mri_vol2surf --trgsubject ${SUBJ} --src $IRFS --out ${SURFOUT}/${xh}.IRFS.w \\\n",
    "                --out_type paint --${SurfMethod} --srcreg ${tkReg} --hemi ${xh}\n",
    "            mri_vol2surf --trgsubject ${SUBJ} --src $NAMP --out ${SURFOUT}/${xh}.NAMP.w \\\n",
    "                --out_type paint --${SurfMethod} --srcreg ${tkReg} --hemi ${xh}\n",
    "            mri_vol2surf --trgsubject ${SUBJ} --src $SDRATIO --out ${SURFOUT}/${xh}.SDRATIO.w \\\n",
    "                --out_type paint --${SurfMethod} --srcreg ${tkReg} --hemi ${xh}\n",
    "        done\n",
    "    fi\n",
    "\n",
    "}"
   ]
  },
  {
   "cell_type": "markdown",
   "metadata": {},
   "source": [
    "## Choose the type of surface generation method     \n",
    "We're going from volume (3d) to surface (2d), which means we're dropping a dimension. That can be done in several ways:\n",
    "- take a point somewhere between the WM and pail borders (choose 'projfrac frac' with frac as the fraction from WM to pial)     \n",
    "- take the maximum between the WM and pail borders (choose 'projfrac-max min max del')\n",
    "- take the average between the WM and pail borders (choose 'projfrac-avg min max del')"
   ]
  },
  {
   "cell_type": "code",
   "execution_count": 29,
   "metadata": {},
   "outputs": [],
   "source": [
    "SurfMethod=\"projfrac 0.7\"\n",
    "#SurfMethod=\"projfrac-avg 0 1 .1\"\n",
    "#SurfMethod=\"projfrac-max 0 1 .1\""
   ]
  },
  {
   "cell_type": "code",
   "execution_count": 30,
   "metadata": {},
   "outputs": [
    {
     "ename": "",
     "evalue": "255",
     "execution_count": 30,
     "output_type": "error",
     "traceback": []
    }
   ],
   "source": [
    "# cycle over variable and execute Result_Vol2Surf\n",
    "for v in ${volspace[@]}; do\n",
    "    for h in ${hrfmod[@]}; do\n",
    "        for c in ${cv[@]}; do\n",
    "            for m in ${models[@]}; do\n",
    "                for t in ${TH[@]}; do\n",
    "                    Result_Vol2Surf ${SUBJ} $v $h $c $m $t $SurfMethod >/dev/null 2>&1\n",
    "                done\n",
    "            done\n",
    "        done\n",
    "    done\n",
    "done"
   ]
  },
  {
   "cell_type": "markdown",
   "metadata": {},
   "source": [
    "## Visualising the results  \n",
    "The cells below provide the code for `tkSurfer`, but everything looks a lot more modern in `surfice`"
   ]
  },
  {
   "cell_type": "code",
   "execution_count": null,
   "metadata": {},
   "outputs": [],
   "source": [
    "surfice"
   ]
  },
  {
   "cell_type": "code",
   "execution_count": null,
   "metadata": {},
   "outputs": [],
   "source": [
    "# show in tksurfer (EXAMPLE)\n",
    "xh=lh # switch hemisphere easily\n",
    "tksurfer ${SUBJ} ${xh} graymid -patch full.patch.flat -overlay ${OUT}/${xh}.CT3_avg.w -overlay-reg ${tkReg}"
   ]
  }
 ],
 "metadata": {
  "kernelspec": {
   "display_name": "Python 3",
   "language": "python",
   "name": "python3"
  },
  "language_info": {
   "codemirror_mode": {
    "name": "ipython",
    "version": 3
   },
   "file_extension": ".py",
   "mimetype": "text/x-python",
   "name": "python",
   "nbconvert_exporter": "python",
   "pygments_lexer": "ipython3",
   "version": "3.7.6"
  }
 },
 "nbformat": 4,
 "nbformat_minor": 4
}
